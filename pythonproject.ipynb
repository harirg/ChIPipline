{
  "nbformat": 4,
  "nbformat_minor": 0,
  "metadata": {
    "colab": {
      "name": "pythonproject.ipynb",
      "provenance": [],
      "collapsed_sections": []
    },
    "kernelspec": {
      "name": "python3",
      "display_name": "Python 3"
    }
  },
  "cells": [
    {
      "cell_type": "code",
      "metadata": {
        "colab": {
          "base_uri": "https://localhost:8080/"
        },
        "id": "kGGYWjxTFxYy",
        "outputId": "72acbea5-b512-4b6a-a583-4abb5e2500bf"
      },
      "source": [
        "!apt-get install bedtools\r\n",
        "!pip install pybedtools"
      ],
      "execution_count": null,
      "outputs": [
        {
          "output_type": "stream",
          "text": [
            "Reading package lists... Done\n",
            "Building dependency tree       \n",
            "Reading state information... Done\n",
            "The following NEW packages will be installed:\n",
            "  bedtools\n",
            "0 upgraded, 1 newly installed, 0 to remove and 10 not upgraded.\n",
            "Need to get 577 kB of archives.\n",
            "After this operation, 2,040 kB of additional disk space will be used.\n",
            "Get:1 http://archive.ubuntu.com/ubuntu bionic/universe amd64 bedtools amd64 2.26.0+dfsg-5 [577 kB]\n",
            "Fetched 577 kB in 1s (616 kB/s)\n",
            "Selecting previously unselected package bedtools.\n",
            "(Reading database ... 146442 files and directories currently installed.)\n",
            "Preparing to unpack .../bedtools_2.26.0+dfsg-5_amd64.deb ...\n",
            "Unpacking bedtools (2.26.0+dfsg-5) ...\n",
            "Setting up bedtools (2.26.0+dfsg-5) ...\n",
            "Collecting pybedtools\n",
            "\u001b[?25l  Downloading https://files.pythonhosted.org/packages/bf/14/152220f39cda6b9b72810eeed103c6ec78422429adabe3aafc3eaf6feb40/pybedtools-0.8.1.tar.gz (12.5MB)\n",
            "\u001b[K     |████████████████████████████████| 12.5MB 327kB/s \n",
            "\u001b[?25hRequirement already satisfied: six in /usr/local/lib/python3.6/dist-packages (from pybedtools) (1.15.0)\n",
            "Collecting pysam\n",
            "\u001b[?25l  Downloading https://files.pythonhosted.org/packages/87/a1/73e80a7a873f3fb0e52d368a4343eb9882b737c932b95020d82251f1087e/pysam-0.16.0.1-cp36-cp36m-manylinux1_x86_64.whl (9.9MB)\n",
            "\u001b[K     |████████████████████████████████| 10.0MB 39.2MB/s \n",
            "\u001b[?25hBuilding wheels for collected packages: pybedtools\n",
            "  Building wheel for pybedtools (setup.py) ... \u001b[?25l\u001b[?25hdone\n",
            "  Created wheel for pybedtools: filename=pybedtools-0.8.1-cp36-cp36m-linux_x86_64.whl size=13603771 sha256=2dada2bb3f33aaff3c136642870e50750825d37c67c3170627d5e019091fc0c8\n",
            "  Stored in directory: /root/.cache/pip/wheels/6b/50/97/7d0e4f605d0d1578997f4bba3061869c2dee9f8cd29f626323\n",
            "Successfully built pybedtools\n",
            "Installing collected packages: pysam, pybedtools\n",
            "Successfully installed pybedtools-0.8.1 pysam-0.16.0.1\n"
          ],
          "name": "stdout"
        }
      ]
    },
    {
      "cell_type": "code",
      "metadata": {
        "colab": {
          "resources": {
            "http://localhost:8080/nbextensions/google.colab/files.js": {
              "data": "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",
              "ok": true,
              "headers": [
                [
                  "content-type",
                  "application/javascript"
                ]
              ],
              "status": 200,
              "status_text": ""
            }
          },
          "base_uri": "https://localhost:8080/",
          "height": 190
        },
        "id": "ldbP8_-xHRvi",
        "outputId": "b85d9a7b-0c0c-4eaa-b3a3-95a3d908b4f3"
      },
      "source": [
        "from google.colab import files\n",
        "\n",
        "uploaded = files.upload()\n",
        "\n",
        "fnam = []\n",
        "\n",
        "for fn in uploaded.keys():\n",
        "  print('User uploaded file \"{name}\" with length {length} bytes'.format(\n",
        "      name=fn, length=len(uploaded[fn])))\n",
        "  fnam.append(fn)"
      ],
      "execution_count": null,
      "outputs": [
        {
          "output_type": "display_data",
          "data": {
            "text/html": [
              "\n",
              "     <input type=\"file\" id=\"files-745382e0-57e2-4cc7-baa2-a54b2b8e8db3\" name=\"files[]\" multiple disabled\n",
              "        style=\"border:none\" />\n",
              "     <output id=\"result-745382e0-57e2-4cc7-baa2-a54b2b8e8db3\">\n",
              "      Upload widget is only available when the cell has been executed in the\n",
              "      current browser session. Please rerun this cell to enable.\n",
              "      </output>\n",
              "      <script src=\"/nbextensions/google.colab/files.js\"></script> "
            ],
            "text/plain": [
              "<IPython.core.display.HTML object>"
            ]
          },
          "metadata": {
            "tags": []
          }
        },
        {
          "output_type": "stream",
          "text": [
            "Saving BAF170.bed to BAF170.bed\n",
            "Saving BRG1.bed to BRG1.bed\n",
            "Saving H3K4me3.bed to H3K4me3.bed\n",
            "User uploaded file \"BAF170.bed\" with length 729418 bytes\n",
            "User uploaded file \"BRG1.bed\" with length 354667 bytes\n",
            "User uploaded file \"H3K4me3.bed\" with length 1737992 bytes\n"
          ],
          "name": "stdout"
        }
      ]
    },
    {
      "cell_type": "code",
      "metadata": {
        "id": "WV1Kbuz4x6z_"
      },
      "source": [
        "fnam=['BAF170.bed','BRG1.bed','H3K4me3.bed']"
      ],
      "execution_count": null,
      "outputs": []
    },
    {
      "cell_type": "code",
      "metadata": {
        "id": "YZWxddmbIHa_"
      },
      "source": [
        "import pybedtools as pbt\r\n",
        "import itertools"
      ],
      "execution_count": null,
      "outputs": []
    },
    {
      "cell_type": "code",
      "metadata": {
        "id": "dEmRGB5rGkDl"
      },
      "source": [
        "def sortall(fname):\r\n",
        "  sortedfiles = {}\r\n",
        "  for fn in fname:\r\n",
        "    sortedfiles[fn.split('.')[0]] = pbt.BedTool(fn).sort()\r\n",
        "  return sortedfiles"
      ],
      "execution_count": null,
      "outputs": []
    },
    {
      "cell_type": "code",
      "metadata": {
        "colab": {
          "base_uri": "https://localhost:8080/"
        },
        "id": "bRM33uGwWEb1",
        "outputId": "801b0e7a-35d4-410b-f0ac-f8ef23bf77d1"
      },
      "source": [
        "sortedfiles = sortall(fname=fnam)\r\n",
        "print(sortedfiles)"
      ],
      "execution_count": null,
      "outputs": [
        {
          "output_type": "stream",
          "text": [
            "{'BAF170': <BedTool(/tmp/pybedtools.gmb2g7z2.tmp)>, 'BRG1': <BedTool(/tmp/pybedtools.a7hnyor4.tmp)>, 'H3K4me3': <BedTool(/tmp/pybedtools.meorprpc.tmp)>}\n"
          ],
          "name": "stdout"
        }
      ]
    },
    {
      "cell_type": "code",
      "metadata": {
        "id": "s85Pb9fvTxSu"
      },
      "source": [
        "def multiple_intersect(sortedfiles):\r\n",
        "  x = pbt.BedTool()\r\n",
        "  fnatt = []\r\n",
        "  for fi in sortedfiles.values():\r\n",
        "    fnatt.append(fi.fn)\r\n",
        "  x = x.multi_intersect(i=fnatt)\r\n",
        "  return x"
      ],
      "execution_count": null,
      "outputs": []
    },
    {
      "cell_type": "code",
      "metadata": {
        "colab": {
          "base_uri": "https://localhost:8080/"
        },
        "id": "oqGw95HDeZqM",
        "outputId": "7d7132e8-652e-4e9b-faf7-7b17e1e816c9"
      },
      "source": [
        "intersect_file = multiple_intersect(sortedfiles)\r\n",
        "intersect_file.head()"
      ],
      "execution_count": null,
      "outputs": [
        {
          "output_type": "stream",
          "text": [
            "chr1\t712415\t716207\t1\t3\t0\t0\t1\n",
            " chr1\t760606\t763901\t1\t3\t0\t0\t1\n",
            " chr1\t824926\t825205\t1\t3\t0\t0\t1\n",
            " chr1\t825818\t825992\t1\t3\t0\t0\t1\n",
            " chr1\t826086\t826228\t1\t3\t0\t0\t1\n",
            " chr1\t839984\t841402\t1\t3\t0\t0\t1\n",
            " chr1\t842320\t842596\t1\t3\t0\t0\t1\n",
            " chr1\t852150\t852301\t1\t3\t0\t0\t1\n",
            " chr1\t852496\t852779\t1\t3\t0\t0\t1\n",
            " chr1\t855219\t855445\t1\t3\t0\t0\t1\n",
            " "
          ],
          "name": "stdout"
        }
      ]
    },
    {
      "cell_type": "code",
      "metadata": {
        "id": "vhJeQPWTuVYX"
      },
      "source": [
        "def parse_file(intersect_file,no_of_files):\r\n",
        "  subset = {}\r\n",
        "  for k in range(2,no_of_files+1):\r\n",
        "    for combo in itertools.combinations(range(1,no_of_files+1),k):\r\n",
        "      score_str = str(combo).replace(\" \",\"\")[1:-1]\r\n",
        "      subset[score_str] = intersect_file.filter(lambda b: b.score == score_str).saveas('inter'+str(combo)+'.bed')\r\n",
        "  return subset"
      ],
      "execution_count": null,
      "outputs": []
    },
    {
      "cell_type": "code",
      "metadata": {
        "id": "zVZ7FGDD3SHD"
      },
      "source": [
        " subset = parse_file(intersect_file,no_of_files=len(fnam))"
      ],
      "execution_count": null,
      "outputs": []
    },
    {
      "cell_type": "code",
      "metadata": {
        "colab": {
          "base_uri": "https://localhost:8080/"
        },
        "id": "DIZJfzuHSKGl",
        "outputId": "0c664563-d7bd-4f22-9332-a8ba38c15bff"
      },
      "source": [
        "print(subset)"
      ],
      "execution_count": null,
      "outputs": [
        {
          "output_type": "stream",
          "text": [
            "{'1,2': <BedTool(inter(1, 2).bed)>, '1,3': <BedTool(inter(1, 3).bed)>, '2,3': <BedTool(inter(2, 3).bed)>, '1,2,3': <BedTool(inter(1, 2, 3).bed)>}\n"
          ],
          "name": "stdout"
        }
      ]
    },
    {
      "cell_type": "code",
      "metadata": {
        "id": "GJ7QpmiBfAw4"
      },
      "source": [
        "import matplotlib.pyplot as plt"
      ],
      "execution_count": null,
      "outputs": []
    },
    {
      "cell_type": "code",
      "metadata": {
        "id": "vOUZW_g8WvVG"
      },
      "source": [
        "def plot_intersection_regions(subset):\r\n",
        "  y = []\r\n",
        "  for f in subset.keys():\r\n",
        "    y.append(len(subset[f]))\r\n",
        "  ax = plt.bar(subset.keys(),y)"
      ],
      "execution_count": null,
      "outputs": []
    },
    {
      "cell_type": "code",
      "metadata": {
        "colab": {
          "base_uri": "https://localhost:8080/",
          "height": 267
        },
        "id": "CzgKHE8tfWlb",
        "outputId": "c484309d-ef54-443b-f90a-47f9a38571f3"
      },
      "source": [
        "plot_intersection_regions(subset)"
      ],
      "execution_count": null,
      "outputs": [
        {
          "output_type": "display_data",
          "data": {
            "image/png": "[encoded data removed]",
            "text/plain": [
              "<Figure size 432x288 with 1 Axes>"
            ]
          },
          "metadata": {
            "tags": [],
            "needs_background": "light"
          }
        }
      ]
    },
    {
      "cell_type": "code",
      "metadata": {
        "colab": {
          "resources": {
            "http://localhost:8080/nbextensions/google.colab/files.js": {
              "data": "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",
              "ok": true,
              "headers": [
                [
                  "content-type",
                  "application/javascript"
                ]
              ],
              "status": 200,
              "status_text": ""
            }
          },
          "base_uri": "https://localhost:8080/",
          "height": 90
        },
        "id": "5VyhgqrJF8dp",
        "outputId": "476843a7-9490-4c9a-8e90-d4d49e40b7ef"
      },
      "source": [
        "from google.colab import files\r\n",
        "\r\n",
        "uploaded = files.upload()\r\n",
        " \r\n",
        "for fn in uploaded.keys():\r\n",
        "  print('User uploaded file \"{name}\" with length {length} bytes'.format(\r\n",
        "      name=fn, length=len(uploaded[fn])))"
      ],
      "execution_count": null,
      "outputs": [
        {
          "output_type": "display_data",
          "data": {
            "text/html": [
              "\n",
              "     <input type=\"file\" id=\"files-4e771de7-7531-4439-be1f-a9bff345c3c4\" name=\"files[]\" multiple disabled\n",
              "        style=\"border:none\" />\n",
              "     <output id=\"result-4e771de7-7531-4439-be1f-a9bff345c3c4\">\n",
              "      Upload widget is only available when the cell has been executed in the\n",
              "      current browser session. Please rerun this cell to enable.\n",
              "      </output>\n",
              "      <script src=\"/nbextensions/google.colab/files.js\"></script> "
            ],
            "text/plain": [
              "<IPython.core.display.HTML object>"
            ]
          },
          "metadata": {
            "tags": []
          }
        },
        {
          "output_type": "stream",
          "text": [
            "Saving gene.txt to gene.txt\n",
            "User uploaded file \"gene.txt\" with length 53874878 bytes\n"
          ],
          "name": "stdout"
        }
      ]
    },
    {
      "cell_type": "code",
      "metadata": {
        "id": "QwMsc6Cbh_GJ"
      },
      "source": [
        "import pandas as pd\r\n",
        "import numpy as np"
      ],
      "execution_count": null,
      "outputs": []
    },
    {
      "cell_type": "code",
      "metadata": {
        "colab": {
          "base_uri": "https://localhost:8080/",
          "height": 215
        },
        "id": "7nDbsKCsklr6",
        "outputId": "77d4032f-7541-4f30-898c-fcae74bc25ec"
      },
      "source": [
        "gene = pd.read_csv(\"gene.txt\",sep = \"\\t\")\r\n",
        "gene.head()"
      ],
      "execution_count": null,
      "outputs": [
        {
          "output_type": "execute_result",
          "data": {
            "text/html": [
              "<div>\n",
              "<style scoped>\n",
              "    .dataframe tbody tr th:only-of-type {\n",
              "        vertical-align: middle;\n",
              "    }\n",
              "\n",
              "    .dataframe tbody tr th {\n",
              "        vertical-align: top;\n",
              "    }\n",
              "\n",
              "    .dataframe thead th {\n",
              "        text-align: right;\n",
              "    }\n",
              "</style>\n",
              "<table border=\"1\" class=\"dataframe\">\n",
              "  <thead>\n",
              "    <tr style=\"text-align: right;\">\n",
              "      <th></th>\n",
              "      <th>bin</th>\n",
              "      <th>name</th>\n",
              "      <th>chrom</th>\n",
              "      <th>strand</th>\n",
              "      <th>txStart</th>\n",
              "      <th>txEnd</th>\n",
              "      <th>cdsStart</th>\n",
              "      <th>cdsEnd</th>\n",
              "      <th>exonCount</th>\n",
              "      <th>exonStarts</th>\n",
              "      <th>exonEnds</th>\n",
              "      <th>score</th>\n",
              "      <th>name2</th>\n",
              "      <th>cdsStartStat</th>\n",
              "      <th>cdsEndStat</th>\n",
              "      <th>exonFrames</th>\n",
              "    </tr>\n",
              "  </thead>\n",
              "  <tbody>\n",
              "    <tr>\n",
              "      <th>0</th>\n",
              "      <td>0</td>\n",
              "      <td>NM_001276352.2</td>\n",
              "      <td>chr1</td>\n",
              "      <td>-</td>\n",
              "      <td>67092164</td>\n",
              "      <td>67134970</td>\n",
              "      <td>67093579</td>\n",
              "      <td>67127240</td>\n",
              "      <td>9</td>\n",
              "      <td>67092164,67096251,67103237,67111576,67115351,6...</td>\n",
              "      <td>67093604,67096321,67103382,67111644,67115464,6...</td>\n",
              "      <td>0</td>\n",
              "      <td>C1orf141</td>\n",
              "      <td>cmpl</td>\n",
              "      <td>cmpl</td>\n",
              "      <td>2,1,0,1,2,0,0,-1,-1,</td>\n",
              "    </tr>\n",
              "    <tr>\n",
              "      <th>1</th>\n",
              "      <td>0</td>\n",
              "      <td>NM_001276351.2</td>\n",
              "      <td>chr1</td>\n",
              "      <td>-</td>\n",
              "      <td>67092164</td>\n",
              "      <td>67134970</td>\n",
              "      <td>67093004</td>\n",
              "      <td>67127240</td>\n",
              "      <td>8</td>\n",
              "      <td>67092164,67095234,67096251,67115351,67125751,6...</td>\n",
              "      <td>67093604,67095421,67096321,67115464,67125909,6...</td>\n",
              "      <td>0</td>\n",
              "      <td>C1orf141</td>\n",
              "      <td>cmpl</td>\n",
              "      <td>cmpl</td>\n",
              "      <td>0,2,1,2,0,0,-1,-1,</td>\n",
              "    </tr>\n",
              "    <tr>\n",
              "      <th>2</th>\n",
              "      <td>0</td>\n",
              "      <td>NR_075077.2</td>\n",
              "      <td>chr1</td>\n",
              "      <td>-</td>\n",
              "      <td>67092164</td>\n",
              "      <td>67134970</td>\n",
              "      <td>67134970</td>\n",
              "      <td>67134970</td>\n",
              "      <td>10</td>\n",
              "      <td>67092164,67096251,67103237,67111576,67113613,6...</td>\n",
              "      <td>67093604,67096321,67103382,67111644,67113756,6...</td>\n",
              "      <td>0</td>\n",
              "      <td>C1orf141</td>\n",
              "      <td>none</td>\n",
              "      <td>none</td>\n",
              "      <td>-1,-1,-1,-1,-1,-1,-1,-1,-1,-1,</td>\n",
              "    </tr>\n",
              "    <tr>\n",
              "      <th>3</th>\n",
              "      <td>0</td>\n",
              "      <td>XM_011541469.1</td>\n",
              "      <td>chr1</td>\n",
              "      <td>-</td>\n",
              "      <td>67092175</td>\n",
              "      <td>67109072</td>\n",
              "      <td>67093004</td>\n",
              "      <td>67103382</td>\n",
              "      <td>5</td>\n",
              "      <td>67092175,67095234,67096251,67103237,67109028,</td>\n",
              "      <td>67093604,67095421,67096321,67103382,67109072,</td>\n",
              "      <td>0</td>\n",
              "      <td>C1orf141</td>\n",
              "      <td>cmpl</td>\n",
              "      <td>cmpl</td>\n",
              "      <td>0,2,1,0,-1,</td>\n",
              "    </tr>\n",
              "    <tr>\n",
              "      <th>4</th>\n",
              "      <td>0</td>\n",
              "      <td>XM_011541467.1</td>\n",
              "      <td>chr1</td>\n",
              "      <td>-</td>\n",
              "      <td>67092175</td>\n",
              "      <td>67131183</td>\n",
              "      <td>67093004</td>\n",
              "      <td>67127240</td>\n",
              "      <td>9</td>\n",
              "      <td>67092175,67095234,67096251,67103237,67111576,6...</td>\n",
              "      <td>67093604,67095421,67096321,67103343,67111644,6...</td>\n",
              "      <td>0</td>\n",
              "      <td>C1orf141</td>\n",
              "      <td>cmpl</td>\n",
              "      <td>cmpl</td>\n",
              "      <td>0,2,1,0,1,2,0,0,-1,</td>\n",
              "    </tr>\n",
              "  </tbody>\n",
              "</table>\n",
              "</div>"
            ],
            "text/plain": [
              "   bin            name  ... cdsEndStat                      exonFrames\n",
              "0    0  NM_001276352.2  ...       cmpl            2,1,0,1,2,0,0,-1,-1,\n",
              "1    0  NM_001276351.2  ...       cmpl              0,2,1,2,0,0,-1,-1,\n",
              "2    0     NR_075077.2  ...       none  -1,-1,-1,-1,-1,-1,-1,-1,-1,-1,\n",
              "3    0  XM_011541469.1  ...       cmpl                     0,2,1,0,-1,\n",
              "4    0  XM_011541467.1  ...       cmpl             0,2,1,0,1,2,0,0,-1,\n",
              "\n",
              "[5 rows x 16 columns]"
            ]
          },
          "metadata": {
            "tags": []
          },
          "execution_count": 16
        }
      ]
    },
    {
      "cell_type": "code",
      "metadata": {
        "colab": {
          "base_uri": "https://localhost:8080/",
          "height": 195
        },
        "id": "m6mzW9ssrnMg",
        "outputId": "81745621-25e4-4f34-8851-6abbb966116d"
      },
      "source": [
        "gene = gene[[\"chrom\",\"txStart\",\"txEnd\",\"strand\",\"name2\"]]\r\n",
        "gene.head()"
      ],
      "execution_count": null,
      "outputs": [
        {
          "output_type": "execute_result",
          "data": {
            "text/html": [
              "<div>\n",
              "<style scoped>\n",
              "    .dataframe tbody tr th:only-of-type {\n",
              "        vertical-align: middle;\n",
              "    }\n",
              "\n",
              "    .dataframe tbody tr th {\n",
              "        vertical-align: top;\n",
              "    }\n",
              "\n",
              "    .dataframe thead th {\n",
              "        text-align: right;\n",
              "    }\n",
              "</style>\n",
              "<table border=\"1\" class=\"dataframe\">\n",
              "  <thead>\n",
              "    <tr style=\"text-align: right;\">\n",
              "      <th></th>\n",
              "      <th>chrom</th>\n",
              "      <th>txStart</th>\n",
              "      <th>txEnd</th>\n",
              "      <th>strand</th>\n",
              "      <th>name2</th>\n",
              "    </tr>\n",
              "  </thead>\n",
              "  <tbody>\n",
              "    <tr>\n",
              "      <th>0</th>\n",
              "      <td>chr1</td>\n",
              "      <td>67092164</td>\n",
              "      <td>67134970</td>\n",
              "      <td>-</td>\n",
              "      <td>C1orf141</td>\n",
              "    </tr>\n",
              "    <tr>\n",
              "      <th>1</th>\n",
              "      <td>chr1</td>\n",
              "      <td>67092164</td>\n",
              "      <td>67134970</td>\n",
              "      <td>-</td>\n",
              "      <td>C1orf141</td>\n",
              "    </tr>\n",
              "    <tr>\n",
              "      <th>2</th>\n",
              "      <td>chr1</td>\n",
              "      <td>67092164</td>\n",
              "      <td>67134970</td>\n",
              "      <td>-</td>\n",
              "      <td>C1orf141</td>\n",
              "    </tr>\n",
              "    <tr>\n",
              "      <th>3</th>\n",
              "      <td>chr1</td>\n",
              "      <td>67092175</td>\n",
              "      <td>67109072</td>\n",
              "      <td>-</td>\n",
              "      <td>C1orf141</td>\n",
              "    </tr>\n",
              "    <tr>\n",
              "      <th>4</th>\n",
              "      <td>chr1</td>\n",
              "      <td>67092175</td>\n",
              "      <td>67131183</td>\n",
              "      <td>-</td>\n",
              "      <td>C1orf141</td>\n",
              "    </tr>\n",
              "  </tbody>\n",
              "</table>\n",
              "</div>"
            ],
            "text/plain": [
              "  chrom   txStart     txEnd strand     name2\n",
              "0  chr1  67092164  67134970      -  C1orf141\n",
              "1  chr1  67092164  67134970      -  C1orf141\n",
              "2  chr1  67092164  67134970      -  C1orf141\n",
              "3  chr1  67092175  67109072      -  C1orf141\n",
              "4  chr1  67092175  67131183      -  C1orf141"
            ]
          },
          "metadata": {
            "tags": []
          },
          "execution_count": 17
        }
      ]
    },
    {
      "cell_type": "code",
      "metadata": {
        "id": "wfGH9sFQ9Zx5"
      },
      "source": [
        "gene.to_csv(\"gene_anno.bed\",header = None,index= None,sep= '\\t')"
      ],
      "execution_count": null,
      "outputs": []
    },
    {
      "cell_type": "code",
      "metadata": {
        "id": "i9FuWiznOST_"
      },
      "source": [
        "def anno(file,dist) :\r\n",
        "  genes = pbt.BedTool(\"gene_anno.bed\")\r\n",
        "  genes = genes.sort()\r\n",
        "  nearby = file.closest(genes, d=True, stream= True).saveas(\"anno.bed\")\r\n",
        "  annot = pd.read_csv(\"anno.bed\",sep = \"\\t\",header= None)\r\n",
        "  annot = annot[annot[annot.shape[1]-1] < dist]\r\n",
        "  annot = annot.drop_duplicates()\r\n",
        "  annot = annot.drop_duplicates([0,1,2])\r\n",
        "  return annot"
      ],
      "execution_count": null,
      "outputs": []
    },
    {
      "cell_type": "code",
      "metadata": {
        "id": "REbNjwBuPAEO"
      },
      "source": [
        " annot = anno(subset['1,2,3'],1000)"
      ],
      "execution_count": null,
      "outputs": []
    },
    {
      "cell_type": "code",
      "metadata": {
        "colab": {
          "base_uri": "https://localhost:8080/",
          "height": 195
        },
        "id": "ZzIhvM2MQEDv",
        "outputId": "86b4f2ff-3c2f-41cd-cffb-f76c4655ec5a"
      },
      "source": [
        "annot.head()"
      ],
      "execution_count": null,
      "outputs": [
        {
          "output_type": "execute_result",
          "data": {
            "text/html": [
              "<div>\n",
              "<style scoped>\n",
              "    .dataframe tbody tr th:only-of-type {\n",
              "        vertical-align: middle;\n",
              "    }\n",
              "\n",
              "    .dataframe tbody tr th {\n",
              "        vertical-align: top;\n",
              "    }\n",
              "\n",
              "    .dataframe thead th {\n",
              "        text-align: right;\n",
              "    }\n",
              "</style>\n",
              "<table border=\"1\" class=\"dataframe\">\n",
              "  <thead>\n",
              "    <tr style=\"text-align: right;\">\n",
              "      <th></th>\n",
              "      <th>0</th>\n",
              "      <th>1</th>\n",
              "      <th>2</th>\n",
              "      <th>3</th>\n",
              "      <th>4</th>\n",
              "      <th>5</th>\n",
              "      <th>6</th>\n",
              "      <th>7</th>\n",
              "      <th>8</th>\n",
              "      <th>9</th>\n",
              "      <th>10</th>\n",
              "      <th>11</th>\n",
              "      <th>12</th>\n",
              "      <th>13</th>\n",
              "    </tr>\n",
              "  </thead>\n",
              "  <tbody>\n",
              "    <tr>\n",
              "      <th>1</th>\n",
              "      <td>chr1</td>\n",
              "      <td>998038</td>\n",
              "      <td>1000319</td>\n",
              "      <td>3</td>\n",
              "      <td>1,2,3</td>\n",
              "      <td>1</td>\n",
              "      <td>1</td>\n",
              "      <td>1</td>\n",
              "      <td>chr1</td>\n",
              "      <td>998961</td>\n",
              "      <td>1001052</td>\n",
              "      <td>-</td>\n",
              "      <td>HES4</td>\n",
              "      <td>0</td>\n",
              "    </tr>\n",
              "    <tr>\n",
              "      <th>4</th>\n",
              "      <td>chr1</td>\n",
              "      <td>1239763</td>\n",
              "      <td>1245571</td>\n",
              "      <td>3</td>\n",
              "      <td>1,2,3</td>\n",
              "      <td>1</td>\n",
              "      <td>1</td>\n",
              "      <td>1</td>\n",
              "      <td>chr1</td>\n",
              "      <td>1242447</td>\n",
              "      <td>1247218</td>\n",
              "      <td>-</td>\n",
              "      <td>C1QTNF12</td>\n",
              "      <td>0</td>\n",
              "    </tr>\n",
              "    <tr>\n",
              "      <th>9</th>\n",
              "      <td>chr1</td>\n",
              "      <td>1279155</td>\n",
              "      <td>1281987</td>\n",
              "      <td>3</td>\n",
              "      <td>1,2,3</td>\n",
              "      <td>1</td>\n",
              "      <td>1</td>\n",
              "      <td>1</td>\n",
              "      <td>chr1</td>\n",
              "      <td>1274001</td>\n",
              "      <td>1279447</td>\n",
              "      <td>+</td>\n",
              "      <td>LINC01786</td>\n",
              "      <td>0</td>\n",
              "    </tr>\n",
              "    <tr>\n",
              "      <th>13</th>\n",
              "      <td>chr1</td>\n",
              "      <td>1509224</td>\n",
              "      <td>1511194</td>\n",
              "      <td>3</td>\n",
              "      <td>1,2,3</td>\n",
              "      <td>1</td>\n",
              "      <td>1</td>\n",
              "      <td>1</td>\n",
              "      <td>chr1</td>\n",
              "      <td>1471731</td>\n",
              "      <td>1509466</td>\n",
              "      <td>+</td>\n",
              "      <td>ATAD3B</td>\n",
              "      <td>0</td>\n",
              "    </tr>\n",
              "    <tr>\n",
              "      <th>14</th>\n",
              "      <td>chr1</td>\n",
              "      <td>1689860</td>\n",
              "      <td>1690094</td>\n",
              "      <td>3</td>\n",
              "      <td>1,2,3</td>\n",
              "      <td>1</td>\n",
              "      <td>1</td>\n",
              "      <td>1</td>\n",
              "      <td>chr1</td>\n",
              "      <td>1661477</td>\n",
              "      <td>1692795</td>\n",
              "      <td>-</td>\n",
              "      <td>SLC35E2B</td>\n",
              "      <td>0</td>\n",
              "    </tr>\n",
              "  </tbody>\n",
              "</table>\n",
              "</div>"
            ],
            "text/plain": [
              "      0        1        2   3      4   ...       9        10  11         12  13\n",
              "1   chr1   998038  1000319   3  1,2,3  ...   998961  1001052   -       HES4   0\n",
              "4   chr1  1239763  1245571   3  1,2,3  ...  1242447  1247218   -   C1QTNF12   0\n",
              "9   chr1  1279155  1281987   3  1,2,3  ...  1274001  1279447   +  LINC01786   0\n",
              "13  chr1  1509224  1511194   3  1,2,3  ...  1471731  1509466   +     ATAD3B   0\n",
              "14  chr1  1689860  1690094   3  1,2,3  ...  1661477  1692795   -   SLC35E2B   0\n",
              "\n",
              "[5 rows x 14 columns]"
            ]
          },
          "metadata": {
            "tags": []
          },
          "execution_count": 21
        }
      ]
    },
    {
      "cell_type": "code",
      "metadata": {
        "colab": {
          "base_uri": "https://localhost:8080/",
          "height": 349
        },
        "id": "hUrs8lgZohud",
        "outputId": "4ee148c3-84d6-40b0-ef21-6178f02db0fc"
      },
      "source": [
        "plt.hist(annot[annot.shape[1]-1])"
      ],
      "execution_count": null,
      "outputs": [
        {
          "output_type": "execute_result",
          "data": {
            "text/plain": [
              "(array([6414.,   13.,    7.,   20.,   20.,   23.,   15.,   17.,   23.,\n",
              "          20.]),\n",
              " array([  0. ,  99.1, 198.2, 297.3, 396.4, 495.5, 594.6, 693.7, 792.8,\n",
              "        891.9, 991. ]),\n",
              " <a list of 10 Patch objects>)"
            ]
          },
          "metadata": {
            "tags": []
          },
          "execution_count": 22
        },
        {
          "output_type": "display_data",
          "data": {
            "image/png": "[encoded data removed]",
            "text/plain": [
              "<Figure size 432x288 with 1 Axes>"
            ]
          },
          "metadata": {
            "tags": [],
            "needs_background": "light"
          }
        }
      ]
    },
    {
      "cell_type": "code",
      "metadata": {
        "id": "4X84-lznaGal"
      },
      "source": [
        "ann = annot[annot.columns[-6:]]"
      ],
      "execution_count": null,
      "outputs": []
    },
    {
      "cell_type": "code",
      "metadata": {
        "id": "FJ0Xr1Ffazlo"
      },
      "source": [
        "ann.columns = [\"chrom\",\"txStart\",\"txEnd\",\"strand\",\"name\",\"dist\"]"
      ],
      "execution_count": null,
      "outputs": []
    },
    {
      "cell_type": "code",
      "metadata": {
        "id": "u7tZP4ZB-yC7"
      },
      "source": [
        "def new(tst,tend,strand,cutoff):\r\n",
        "  if str(strand) == '+':\r\n",
        "   start = tst-cutoff\r\n",
        "  else:\r\n",
        "    start = tend\r\n",
        "  return start"
      ],
      "execution_count": null,
      "outputs": []
    },
    {
      "cell_type": "code",
      "metadata": {
        "id": "R5yYDPCFHOIW"
      },
      "source": [
        "def neww(tst,tend,strand,cutoff):\r\n",
        "  if str(strand) == \"+\":\r\n",
        "   end = tst\r\n",
        "  else:\r\n",
        "    end = tend+cutoff\r\n",
        "  return end"
      ],
      "execution_count": null,
      "outputs": []
    },
    {
      "cell_type": "code",
      "metadata": {
        "colab": {
          "base_uri": "https://localhost:8080/"
        },
        "id": "O-T5fodfE7yg",
        "outputId": "3fea4baf-8b7a-4c5e-95c3-51177cab26f8"
      },
      "source": [
        "ann['start'] = ann.apply(lambda x: new(tst=x['txStart'],tend=x['txEnd'],strand=x['strand'],cutoff=100),axis=1)"
      ],
      "execution_count": null,
      "outputs": [
        {
          "output_type": "stream",
          "text": [
            "/usr/local/lib/python3.6/dist-packages/ipykernel_launcher.py:1: SettingWithCopyWarning: \n",
            "A value is trying to be set on a copy of a slice from a DataFrame.\n",
            "Try using .loc[row_indexer,col_indexer] = value instead\n",
            "\n",
            "See the caveats in the documentation: https://pandas.pydata.org/pandas-docs/stable/user_guide/indexing.html#returning-a-view-versus-a-copy\n",
            "  \"\"\"Entry point for launching an IPython kernel.\n"
          ],
          "name": "stderr"
        }
      ]
    },
    {
      "cell_type": "code",
      "metadata": {
        "colab": {
          "base_uri": "https://localhost:8080/"
        },
        "id": "54Sjq9DmKGvv",
        "outputId": "74c557b5-6631-4516-97ba-c1e856f70f83"
      },
      "source": [
        "ann['end'] = ann.apply(lambda x: new(tst=x['txStart'],tend=x['txEnd'],strand=x['strand'],cutoff=100),axis=1)"
      ],
      "execution_count": null,
      "outputs": [
        {
          "output_type": "stream",
          "text": [
            "/usr/local/lib/python3.6/dist-packages/ipykernel_launcher.py:1: SettingWithCopyWarning: \n",
            "A value is trying to be set on a copy of a slice from a DataFrame.\n",
            "Try using .loc[row_indexer,col_indexer] = value instead\n",
            "\n",
            "See the caveats in the documentation: https://pandas.pydata.org/pandas-docs/stable/user_guide/indexing.html#returning-a-view-versus-a-copy\n",
            "  \"\"\"Entry point for launching an IPython kernel.\n"
          ],
          "name": "stderr"
        }
      ]
    },
    {
      "cell_type": "code",
      "metadata": {
        "colab": {
          "base_uri": "https://localhost:8080/",
          "height": 195
        },
        "id": "LTSJrMOCaiko",
        "outputId": "fe0e061b-b79f-42e4-ab70-6a799f1b6507"
      },
      "source": [
        "ann.head()"
      ],
      "execution_count": null,
      "outputs": [
        {
          "output_type": "execute_result",
          "data": {
            "text/html": [
              "<div>\n",
              "<style scoped>\n",
              "    .dataframe tbody tr th:only-of-type {\n",
              "        vertical-align: middle;\n",
              "    }\n",
              "\n",
              "    .dataframe tbody tr th {\n",
              "        vertical-align: top;\n",
              "    }\n",
              "\n",
              "    .dataframe thead th {\n",
              "        text-align: right;\n",
              "    }\n",
              "</style>\n",
              "<table border=\"1\" class=\"dataframe\">\n",
              "  <thead>\n",
              "    <tr style=\"text-align: right;\">\n",
              "      <th></th>\n",
              "      <th>chrom</th>\n",
              "      <th>txStart</th>\n",
              "      <th>txEnd</th>\n",
              "      <th>strand</th>\n",
              "      <th>name</th>\n",
              "      <th>dist</th>\n",
              "      <th>start</th>\n",
              "      <th>end</th>\n",
              "    </tr>\n",
              "  </thead>\n",
              "  <tbody>\n",
              "    <tr>\n",
              "      <th>1</th>\n",
              "      <td>chr1</td>\n",
              "      <td>998961</td>\n",
              "      <td>1001052</td>\n",
              "      <td>-</td>\n",
              "      <td>HES4</td>\n",
              "      <td>0</td>\n",
              "      <td>1001052</td>\n",
              "      <td>1001052</td>\n",
              "    </tr>\n",
              "    <tr>\n",
              "      <th>4</th>\n",
              "      <td>chr1</td>\n",
              "      <td>1242447</td>\n",
              "      <td>1247218</td>\n",
              "      <td>-</td>\n",
              "      <td>C1QTNF12</td>\n",
              "      <td>0</td>\n",
              "      <td>1247218</td>\n",
              "      <td>1247218</td>\n",
              "    </tr>\n",
              "    <tr>\n",
              "      <th>9</th>\n",
              "      <td>chr1</td>\n",
              "      <td>1274001</td>\n",
              "      <td>1279447</td>\n",
              "      <td>+</td>\n",
              "      <td>LINC01786</td>\n",
              "      <td>0</td>\n",
              "      <td>1273901</td>\n",
              "      <td>1273901</td>\n",
              "    </tr>\n",
              "    <tr>\n",
              "      <th>13</th>\n",
              "      <td>chr1</td>\n",
              "      <td>1471731</td>\n",
              "      <td>1509466</td>\n",
              "      <td>+</td>\n",
              "      <td>ATAD3B</td>\n",
              "      <td>0</td>\n",
              "      <td>1471631</td>\n",
              "      <td>1471631</td>\n",
              "    </tr>\n",
              "    <tr>\n",
              "      <th>14</th>\n",
              "      <td>chr1</td>\n",
              "      <td>1661477</td>\n",
              "      <td>1692795</td>\n",
              "      <td>-</td>\n",
              "      <td>SLC35E2B</td>\n",
              "      <td>0</td>\n",
              "      <td>1692795</td>\n",
              "      <td>1692795</td>\n",
              "    </tr>\n",
              "  </tbody>\n",
              "</table>\n",
              "</div>"
            ],
            "text/plain": [
              "   chrom  txStart    txEnd strand       name  dist    start      end\n",
              "1   chr1   998961  1001052      -       HES4     0  1001052  1001052\n",
              "4   chr1  1242447  1247218      -   C1QTNF12     0  1247218  1247218\n",
              "9   chr1  1274001  1279447      +  LINC01786     0  1273901  1273901\n",
              "13  chr1  1471731  1509466      +     ATAD3B     0  1471631  1471631\n",
              "14  chr1  1661477  1692795      -   SLC35E2B     0  1692795  1692795"
            ]
          },
          "metadata": {
            "tags": []
          },
          "execution_count": 29
        }
      ]
    },
    {
      "cell_type": "code",
      "metadata": {
        "colab": {
          "base_uri": "https://localhost:8080/"
        },
        "id": "qTOR-ZzrAJeL",
        "outputId": "27893c44-7cd2-4b22-a53c-dfb3aaa26b58"
      },
      "source": [
        "ann.columns"
      ],
      "execution_count": null,
      "outputs": [
        {
          "output_type": "execute_result",
          "data": {
            "text/plain": [
              "Index(['chrom', 'txStart', 'txEnd', 'strand', 'name', 'dist', 'start', 'end'], dtype='object')"
            ]
          },
          "metadata": {
            "tags": []
          },
          "execution_count": 30
        }
      ]
    },
    {
      "cell_type": "code",
      "metadata": {
        "id": "KtZlBgsGM-pX"
      },
      "source": [
        "gene_list = ann['name'].values\r\n",
        "ann = ann[[\"chrom\",\"start\",\"end\"]]"
      ],
      "execution_count": null,
      "outputs": []
    },
    {
      "cell_type": "code",
      "metadata": {
        "colab": {
          "base_uri": "https://localhost:8080/",
          "height": 195
        },
        "id": "wkQ14bCVNF5i",
        "outputId": "3df9354f-322d-443f-f57e-bd9e06c67783"
      },
      "source": [
        "ann.head()"
      ],
      "execution_count": null,
      "outputs": [
        {
          "output_type": "execute_result",
          "data": {
            "text/html": [
              "<div>\n",
              "<style scoped>\n",
              "    .dataframe tbody tr th:only-of-type {\n",
              "        vertical-align: middle;\n",
              "    }\n",
              "\n",
              "    .dataframe tbody tr th {\n",
              "        vertical-align: top;\n",
              "    }\n",
              "\n",
              "    .dataframe thead th {\n",
              "        text-align: right;\n",
              "    }\n",
              "</style>\n",
              "<table border=\"1\" class=\"dataframe\">\n",
              "  <thead>\n",
              "    <tr style=\"text-align: right;\">\n",
              "      <th></th>\n",
              "      <th>chrom</th>\n",
              "      <th>start</th>\n",
              "      <th>end</th>\n",
              "    </tr>\n",
              "  </thead>\n",
              "  <tbody>\n",
              "    <tr>\n",
              "      <th>1</th>\n",
              "      <td>chr1</td>\n",
              "      <td>1001052</td>\n",
              "      <td>1001052</td>\n",
              "    </tr>\n",
              "    <tr>\n",
              "      <th>4</th>\n",
              "      <td>chr1</td>\n",
              "      <td>1247218</td>\n",
              "      <td>1247218</td>\n",
              "    </tr>\n",
              "    <tr>\n",
              "      <th>9</th>\n",
              "      <td>chr1</td>\n",
              "      <td>1273901</td>\n",
              "      <td>1273901</td>\n",
              "    </tr>\n",
              "    <tr>\n",
              "      <th>13</th>\n",
              "      <td>chr1</td>\n",
              "      <td>1471631</td>\n",
              "      <td>1471631</td>\n",
              "    </tr>\n",
              "    <tr>\n",
              "      <th>14</th>\n",
              "      <td>chr1</td>\n",
              "      <td>1692795</td>\n",
              "      <td>1692795</td>\n",
              "    </tr>\n",
              "  </tbody>\n",
              "</table>\n",
              "</div>"
            ],
            "text/plain": [
              "   chrom    start      end\n",
              "1   chr1  1001052  1001052\n",
              "4   chr1  1247218  1247218\n",
              "9   chr1  1273901  1273901\n",
              "13  chr1  1471631  1471631\n",
              "14  chr1  1692795  1692795"
            ]
          },
          "metadata": {
            "tags": []
          },
          "execution_count": 32
        }
      ]
    },
    {
      "cell_type": "code",
      "metadata": {
        "colab": {
          "base_uri": "https://localhost:8080/"
        },
        "id": "o_BxBTvrCZlz",
        "outputId": "0129a5ba-6611-4f2e-d5ef-1b0a8e817686"
      },
      "source": [
        "print(gene_list)"
      ],
      "execution_count": null,
      "outputs": [
        {
          "output_type": "stream",
          "text": [
            "['HES4' 'C1QTNF12' 'LINC01786' ... 'PLXNB3' 'PDZD4' 'F8']\n"
          ],
          "name": "stdout"
        }
      ]
    },
    {
      "cell_type": "code",
      "metadata": {
        "id": "Xr7D9wERnWUl"
      },
      "source": [
        "ann.to_csv(\"seq_inp.bed\",header = None,index= None,sep= '\\t')"
      ],
      "execution_count": null,
      "outputs": []
    },
    {
      "cell_type": "code",
      "metadata": {
        "id": "Wn0-MF4zQ4jS"
      },
      "source": [
        "from matplotlib_venn import venn2"
      ],
      "execution_count": null,
      "outputs": []
    },
    {
      "cell_type": "code",
      "metadata": {
        "id": "fHDN4UPgC1Av"
      },
      "source": [
        "def plot_venn(list1,list2):\r\n",
        "  venn2([set(list1),set(list2)])"
      ],
      "execution_count": null,
      "outputs": []
    },
    {
      "cell_type": "code",
      "metadata": {
        "colab": {
          "base_uri": "https://localhost:8080/",
          "height": 241
        },
        "id": "NTs9cIQtENMw",
        "outputId": "a1974a09-87b7-42ed-bf9a-e716a1bc27a3"
      },
      "source": [
        "plot_venn(list1,list2)"
      ],
      "execution_count": null,
      "outputs": [
        {
          "output_type": "display_data",
          "data": {
            "image/png": "[encoded data removed]",
            "text/plain": [
              "<Figure size 432x288 with 1 Axes>"
            ]
          },
          "metadata": {
            "tags": []
          }
        }
      ]
    },
    {
      "cell_type": "code",
      "metadata": {
        "colab": {
          "base_uri": "https://localhost:8080/"
        },
        "id": "1dYh4VifIzHg",
        "outputId": "3d3b106a-78e6-4372-f5cc-e272836d8c87"
      },
      "source": [
        "!pip install gseapy"
      ],
      "execution_count": null,
      "outputs": [
        {
          "output_type": "stream",
          "text": [
            "Collecting gseapy\n",
            "\u001b[?25l  Downloading https://files.pythonhosted.org/packages/31/37/e202d5205d976a26d316e25d069e58df3af4dd04049ece5894c16ce7a61a/gseapy-0.10.2-py3-none-any.whl (525kB)\n",
            "\u001b[K     |████████████████████████████████| 532kB 5.3MB/s \n",
            "\u001b[?25hCollecting bioservices\n",
            "\u001b[?25l  Downloading https://files.pythonhosted.org/packages/bf/11/da269203854425f419805606d60a1c93af30e5ea50924a5a124f05dea638/bioservices-1.7.11.tar.gz (226kB)\n",
            "\u001b[K     |████████████████████████████████| 235kB 10.5MB/s \n",
            "\u001b[?25hRequirement already satisfied: joblib in /usr/local/lib/python3.6/dist-packages (from gseapy) (1.0.0)\n",
            "Requirement already satisfied: matplotlib in /usr/local/lib/python3.6/dist-packages (from gseapy) (3.2.2)\n",
            "Requirement already satisfied: numpy>=1.13.0 in /usr/local/lib/python3.6/dist-packages (from gseapy) (1.19.5)\n",
            "Requirement already satisfied: pandas in /usr/local/lib/python3.6/dist-packages (from gseapy) (1.1.5)\n",
            "Requirement already satisfied: scipy in /usr/local/lib/python3.6/dist-packages (from gseapy) (1.4.1)\n",
            "Requirement already satisfied: requests in /usr/local/lib/python3.6/dist-packages (from gseapy) (2.23.0)\n",
            "Collecting grequests\n",
            "  Downloading https://files.pythonhosted.org/packages/ed/4c/926fe81584bb9139511ec6490a924362dcc49d3d33a7fa20a7dc6515c266/grequests-0.6.0-py3-none-any.whl\n",
            "Collecting requests_cache\n",
            "  Downloading https://files.pythonhosted.org/packages/7f/55/9b1c40eb83c16d8fc79c5f6c2ffade04208b080670fbfc35e0a5effb5a92/requests_cache-0.5.2-py2.py3-none-any.whl\n",
            "Collecting easydev>=0.9.36\n",
            "\u001b[?25l  Downloading https://files.pythonhosted.org/packages/27/80/946c6adac56daa00ca9c9b5242e68327e9a0cca47e6fc6c91d3b3eb31de4/easydev-0.11.0.tar.gz (47kB)\n",
            "\u001b[K     |████████████████████████████████| 51kB 4.6MB/s \n",
            "\u001b[?25hRequirement already satisfied: beautifulsoup4 in /usr/local/lib/python3.6/dist-packages (from bioservices->gseapy) (4.6.3)\n",
            "Collecting xmltodict\n",
            "  Downloading https://files.pythonhosted.org/packages/28/fd/30d5c1d3ac29ce229f6bdc40bbc20b28f716e8b363140c26eff19122d8a5/xmltodict-0.12.0-py2.py3-none-any.whl\n",
            "Requirement already satisfied: lxml in /usr/local/lib/python3.6/dist-packages (from bioservices->gseapy) (4.2.6)\n",
            "Collecting suds-jurko\n",
            "\u001b[?25l  Downloading https://files.pythonhosted.org/packages/bd/6f/54fbf0999a606680d27c69b1ad12dfff62768ecb9fe48524cebda6eb4423/suds-jurko-0.6.tar.bz2 (143kB)\n",
            "\u001b[K     |████████████████████████████████| 153kB 10.9MB/s \n",
            "\u001b[?25hRequirement already satisfied: appdirs in /usr/local/lib/python3.6/dist-packages (from bioservices->gseapy) (1.4.4)\n",
            "Requirement already satisfied: wrapt in /usr/local/lib/python3.6/dist-packages (from bioservices->gseapy) (1.12.1)\n",
            "Collecting colorlog\n",
            "  Downloading https://files.pythonhosted.org/packages/5e/39/0230290df0519d528d8d0ffdfd900150ed24e0076d13b1f19e279444aab1/colorlog-4.7.2-py2.py3-none-any.whl\n",
            "Requirement already satisfied: kiwisolver>=1.0.1 in /usr/local/lib/python3.6/dist-packages (from matplotlib->gseapy) (1.3.1)\n",
            "Requirement already satisfied: python-dateutil>=2.1 in /usr/local/lib/python3.6/dist-packages (from matplotlib->gseapy) (2.8.1)\n",
            "Requirement already satisfied: cycler>=0.10 in /usr/local/lib/python3.6/dist-packages (from matplotlib->gseapy) (0.10.0)\n",
            "Requirement already satisfied: pyparsing!=2.0.4,!=2.1.2,!=2.1.6,>=2.0.1 in /usr/local/lib/python3.6/dist-packages (from matplotlib->gseapy) (2.4.7)\n",
            "Requirement already satisfied: pytz>=2017.2 in /usr/local/lib/python3.6/dist-packages (from pandas->gseapy) (2018.9)\n",
            "Requirement already satisfied: certifi>=2017.4.17 in /usr/local/lib/python3.6/dist-packages (from requests->gseapy) (2020.12.5)\n",
            "Requirement already satisfied: chardet<4,>=3.0.2 in /usr/local/lib/python3.6/dist-packages (from requests->gseapy) (3.0.4)\n",
            "Requirement already satisfied: idna<3,>=2.5 in /usr/local/lib/python3.6/dist-packages (from requests->gseapy) (2.10)\n",
            "Requirement already satisfied: urllib3!=1.25.0,!=1.25.1,<1.26,>=1.21.1 in /usr/local/lib/python3.6/dist-packages (from requests->gseapy) (1.24.3)\n",
            "Collecting gevent\n",
            "\u001b[?25l  Downloading https://files.pythonhosted.org/packages/f5/90/000736e587a720f8eef2bcd384456ce2add5ddfc3c63cf51a7ea13412cb6/gevent-21.1.2-cp36-cp36m-manylinux2010_x86_64.whl (5.5MB)\n",
            "\u001b[K     |████████████████████████████████| 5.5MB 14.2MB/s \n",
            "\u001b[?25hCollecting colorama\n",
            "  Downloading https://files.pythonhosted.org/packages/44/98/5b86278fbbf250d239ae0ecb724f8572af1c91f4a11edf4d36a206189440/colorama-0.4.4-py2.py3-none-any.whl\n",
            "Requirement already satisfied: pexpect in /usr/local/lib/python3.6/dist-packages (from easydev>=0.9.36->bioservices->gseapy) (4.8.0)\n",
            "Requirement already satisfied: six>=1.5 in /usr/local/lib/python3.6/dist-packages (from python-dateutil>=2.1->matplotlib->gseapy) (1.15.0)\n",
            "Collecting greenlet<2.0,>=0.4.17; platform_python_implementation == \"CPython\"\n",
            "\u001b[?25l  Downloading https://files.pythonhosted.org/packages/22/e2/9fbb24cf1ee89813ded3761314562a83a2822ad2bf5682eef0d0c99e2a5d/greenlet-1.0.0-cp36-cp36m-manylinux2010_x86_64.whl (156kB)\n",
            "\u001b[K     |████████████████████████████████| 163kB 38.9MB/s \n",
            "\u001b[?25hCollecting zope.event\n",
            "  Downloading https://files.pythonhosted.org/packages/9e/85/b45408c64f3b888976f1d5b37eed8d746b8d5729a66a49ec846fda27d371/zope.event-4.5.0-py2.py3-none-any.whl\n",
            "Collecting zope.interface\n",
            "\u001b[?25l  Downloading https://files.pythonhosted.org/packages/82/b0/da8afd9b3bd50c7665ecdac062f182982af1173c9081f9af7261091c5588/zope.interface-5.2.0-cp36-cp36m-manylinux2010_x86_64.whl (236kB)\n",
            "\u001b[K     |████████████████████████████████| 245kB 41.3MB/s \n",
            "\u001b[?25hRequirement already satisfied: setuptools in /usr/local/lib/python3.6/dist-packages (from gevent->grequests->bioservices->gseapy) (53.0.0)\n",
            "Requirement already satisfied: ptyprocess>=0.5 in /usr/local/lib/python3.6/dist-packages (from pexpect->easydev>=0.9.36->bioservices->gseapy) (0.7.0)\n",
            "Building wheels for collected packages: bioservices, easydev, suds-jurko\n",
            "  Building wheel for bioservices (setup.py) ... \u001b[?25l\u001b[?25hdone\n",
            "  Created wheel for bioservices: filename=bioservices-1.7.11-cp36-none-any.whl size=236089 sha256=e8485d363b55a41a5d38555c26bf506e9959c388fc730f52320bb22194e4bdf2\n",
            "  Stored in directory: /root/.cache/pip/wheels/60/6c/61/1e0bf60bbf1c01bebc0b36f25aa94a4028474203414ed4088d\n",
            "  Building wheel for easydev (setup.py) ... \u001b[?25l\u001b[?25hdone\n",
            "  Created wheel for easydev: filename=easydev-0.11.0-cp36-none-any.whl size=64244 sha256=7e8ea84166f02724ae5221d1fb11a4af1cfb21d2eb6e3ea14e592951aaa7ffbc\n",
            "  Stored in directory: /root/.cache/pip/wheels/17/69/b5/771949d8100a30aa33e4bc5d0ff77eced9063284891ce26898\n",
            "  Building wheel for suds-jurko (setup.py) ... \u001b[?25l\u001b[?25hdone\n",
            "  Created wheel for suds-jurko: filename=suds_jurko-0.6-cp36-none-any.whl size=454620 sha256=cc82fa58b24c7a459732055fe0b78a3ce02eac7e25c40f72f49f1528d07e68bd\n",
            "  Stored in directory: /root/.cache/pip/wheels/12/68/53/d3902c054e32115da1d45bac442a547a071a86a65db4d77027\n",
            "Successfully built bioservices easydev suds-jurko\n",
            "Installing collected packages: greenlet, zope.event, zope.interface, gevent, grequests, requests-cache, colorama, colorlog, easydev, xmltodict, suds-jurko, bioservices, gseapy\n",
            "Successfully installed bioservices-1.7.11 colorama-0.4.4 colorlog-4.7.2 easydev-0.11.0 gevent-21.1.2 greenlet-1.0.0 grequests-0.6.0 gseapy-0.10.2 requests-cache-0.5.2 suds-jurko-0.6 xmltodict-0.12.0 zope.event-4.5.0 zope.interface-5.2.0\n"
          ],
          "name": "stdout"
        }
      ]
    },
    {
      "cell_type": "code",
      "metadata": {
        "id": "PhR9b5BOI6Zw"
      },
      "source": [
        "gene_sets=['KEGG_2016','KEGG_2013']"
      ],
      "execution_count": null,
      "outputs": []
    },
    {
      "cell_type": "code",
      "metadata": {
        "id": "C2ZjnctkKwl2"
      },
      "source": [
        "def list_to_txt(glist):\r\n",
        "  F = open('genelist.txt', 'w')\r\n",
        "  for i in glist:\r\n",
        "    F.write(str(i) + \"\\n\")\r\n",
        "  F.close()"
      ],
      "execution_count": null,
      "outputs": []
    },
    {
      "cell_type": "code",
      "metadata": {
        "id": "4y1scj4MLUp_"
      },
      "source": [
        "list_to_txt(gene_list)"
      ],
      "execution_count": null,
      "outputs": []
    },
    {
      "cell_type": "code",
      "metadata": {
        "id": "ssp8b47eJAiF"
      },
      "source": [
        "import gseapy as gp"
      ],
      "execution_count": null,
      "outputs": []
    },
    {
      "cell_type": "code",
      "metadata": {
        "id": "1wgZaXNZJMKr"
      },
      "source": [
        "enr = gp.enrichr(gene_list='genelist.txt' ,\r\n",
        "                 gene_sets=gene_sets ,\r\n",
        "                 organism='Human',\r\n",
        "                 description='test_name',\r\n",
        "                 outdir='test/pathways',\r\n",
        "                 cutoff=0.05\r\n",
        "                )"
      ],
      "execution_count": null,
      "outputs": []
    },
    {
      "cell_type": "code",
      "metadata": {
        "colab": {
          "base_uri": "https://localhost:8080/",
          "height": 296
        },
        "id": "GGCjR4BZJkJQ",
        "outputId": "933c1eae-5d5d-4c5e-a378-ee1e5cdd4cdd"
      },
      "source": [
        "enr.results.head(5)"
      ],
      "execution_count": null,
      "outputs": [
        {
          "output_type": "execute_result",
          "data": {
            "text/html": [
              "<div>\n",
              "<style scoped>\n",
              "    .dataframe tbody tr th:only-of-type {\n",
              "        vertical-align: middle;\n",
              "    }\n",
              "\n",
              "    .dataframe tbody tr th {\n",
              "        vertical-align: top;\n",
              "    }\n",
              "\n",
              "    .dataframe thead th {\n",
              "        text-align: right;\n",
              "    }\n",
              "</style>\n",
              "<table border=\"1\" class=\"dataframe\">\n",
              "  <thead>\n",
              "    <tr style=\"text-align: right;\">\n",
              "      <th></th>\n",
              "      <th>Gene_set</th>\n",
              "      <th>Term</th>\n",
              "      <th>Overlap</th>\n",
              "      <th>P-value</th>\n",
              "      <th>Adjusted P-value</th>\n",
              "      <th>Old P-value</th>\n",
              "      <th>Old Adjusted P-value</th>\n",
              "      <th>Odds Ratio</th>\n",
              "      <th>Combined Score</th>\n",
              "      <th>Genes</th>\n",
              "    </tr>\n",
              "  </thead>\n",
              "  <tbody>\n",
              "    <tr>\n",
              "      <th>0</th>\n",
              "      <td>KEGG_2016</td>\n",
              "      <td>Glyoxylate and dicarboxylate metabolism Homo s...</td>\n",
              "      <td>6/28</td>\n",
              "      <td>0.000011</td>\n",
              "      <td>0.002030</td>\n",
              "      <td>0</td>\n",
              "      <td>0</td>\n",
              "      <td>14.488544</td>\n",
              "      <td>165.303610</td>\n",
              "      <td>MDH1;AFMID;CAT;HYI;ACO1;MUT</td>\n",
              "    </tr>\n",
              "    <tr>\n",
              "      <th>1</th>\n",
              "      <td>KEGG_2016</td>\n",
              "      <td>Metabolic pathways Homo sapiens hsa01100</td>\n",
              "      <td>43/1239</td>\n",
              "      <td>0.000074</td>\n",
              "      <td>0.006735</td>\n",
              "      <td>0</td>\n",
              "      <td>0</td>\n",
              "      <td>1.995726</td>\n",
              "      <td>18.992907</td>\n",
              "      <td>LIPT1;FECH;NDUFB6;COX15;MTMR14;GBE1;ADK;SAT2;M...</td>\n",
              "    </tr>\n",
              "    <tr>\n",
              "      <th>2</th>\n",
              "      <td>KEGG_2016</td>\n",
              "      <td>Tyrosine metabolism Homo sapiens hsa00350</td>\n",
              "      <td>5/35</td>\n",
              "      <td>0.000461</td>\n",
              "      <td>0.028123</td>\n",
              "      <td>0</td>\n",
              "      <td>0</td>\n",
              "      <td>8.826577</td>\n",
              "      <td>67.806030</td>\n",
              "      <td>GSTZ1;ALDH1A3;FAHD1;FAH;ADH5</td>\n",
              "    </tr>\n",
              "    <tr>\n",
              "      <th>3</th>\n",
              "      <td>KEGG_2016</td>\n",
              "      <td>Carbon metabolism Homo sapiens hsa01200</td>\n",
              "      <td>7/113</td>\n",
              "      <td>0.005446</td>\n",
              "      <td>0.249134</td>\n",
              "      <td>0</td>\n",
              "      <td>0</td>\n",
              "      <td>3.502692</td>\n",
              "      <td>18.259384</td>\n",
              "      <td>ALDH6A1;MDH1;CAT;ACO1;MUT;ADH5;HIBCH</td>\n",
              "    </tr>\n",
              "    <tr>\n",
              "      <th>4</th>\n",
              "      <td>KEGG_2016</td>\n",
              "      <td>beta-Alanine metabolism Homo sapiens hsa00410</td>\n",
              "      <td>3/31</td>\n",
              "      <td>0.019935</td>\n",
              "      <td>0.623734</td>\n",
              "      <td>0</td>\n",
              "      <td>0</td>\n",
              "      <td>5.644297</td>\n",
              "      <td>22.098966</td>\n",
              "      <td>ALDH1A3;ALDH6A1;HIBCH</td>\n",
              "    </tr>\n",
              "  </tbody>\n",
              "</table>\n",
              "</div>"
            ],
            "text/plain": [
              "    Gene_set  ...                                              Genes\n",
              "0  KEGG_2016  ...                        MDH1;AFMID;CAT;HYI;ACO1;MUT\n",
              "1  KEGG_2016  ...  LIPT1;FECH;NDUFB6;COX15;MTMR14;GBE1;ADK;SAT2;M...\n",
              "2  KEGG_2016  ...                       GSTZ1;ALDH1A3;FAHD1;FAH;ADH5\n",
              "3  KEGG_2016  ...               ALDH6A1;MDH1;CAT;ACO1;MUT;ADH5;HIBCH\n",
              "4  KEGG_2016  ...                              ALDH1A3;ALDH6A1;HIBCH\n",
              "\n",
              "[5 rows x 10 columns]"
            ]
          },
          "metadata": {
            "tags": []
          },
          "execution_count": 40
        }
      ]
    },
    {
      "cell_type": "code",
      "metadata": {
        "id": "GkV2MujkLwpC"
      },
      "source": [
        "from gseapy.plot import barplot"
      ],
      "execution_count": null,
      "outputs": []
    },
    {
      "cell_type": "code",
      "metadata": {
        "colab": {
          "base_uri": "https://localhost:8080/",
          "height": 426
        },
        "id": "COvG8L-CL5fN",
        "outputId": "42115f5f-cfd5-44a9-f384-332591cb8d75"
      },
      "source": [
        "barplot(enr.res2d,title='KEGG_2016',)"
      ],
      "execution_count": null,
      "outputs": [
        {
          "output_type": "display_data",
          "data": {
            "image/png": "[encoded data removed]",
            "text/plain": [
              "<Figure size 468x432 with 1 Axes>"
            ]
          },
          "metadata": {
            "tags": [],
            "needs_background": "light"
          }
        }
      ]
    },
    {
      "cell_type": "code",
      "metadata": {
        "colab": {
          "base_uri": "https://localhost:8080/"
        },
        "id": "Q3djEOX7xksU",
        "outputId": "b607b46f-ddc2-4b50-a333-8cb0e513dbaa"
      },
      "source": [
        "!pip install -U motifscan"
      ],
      "execution_count": null,
      "outputs": [
        {
          "output_type": "stream",
          "text": [
            "Collecting motifscan\n",
            "\u001b[?25l  Downloading https://files.pythonhosted.org/packages/a9/25/9f149660e79c145c6bcc9a9d4ceb35f8c3eff10dcddce37014663c062d3d/motifscan-1.3.0.tar.gz (232kB)\n",
            "\u001b[K     |████████████████████████████████| 235kB 6.9MB/s \n",
            "\u001b[?25hRequirement already satisfied, skipping upgrade: numpy>=1.15 in /usr/local/lib/python3.6/dist-packages (from motifscan) (1.19.5)\n",
            "Requirement already satisfied, skipping upgrade: scipy>=1.0 in /usr/local/lib/python3.6/dist-packages (from motifscan) (1.4.1)\n",
            "Requirement already satisfied, skipping upgrade: requests in /usr/local/lib/python3.6/dist-packages (from motifscan) (2.23.0)\n",
            "Collecting tqdm>=4.42.1\n",
            "\u001b[?25l  Downloading https://files.pythonhosted.org/packages/d9/13/f3f815bb73804a8af9cfbb6f084821c037109108885f46131045e8cf044e/tqdm-4.57.0-py2.py3-none-any.whl (72kB)\n",
            "\u001b[K     |████████████████████████████████| 81kB 7.0MB/s \n",
            "\u001b[?25hRequirement already satisfied, skipping upgrade: pysam>=0.15.0 in /usr/local/lib/python3.6/dist-packages (from motifscan) (0.16.0.1)\n",
            "Requirement already satisfied, skipping upgrade: matplotlib>=3.0.0 in /usr/local/lib/python3.6/dist-packages (from motifscan) (3.2.2)\n",
            "Requirement already satisfied, skipping upgrade: chardet<4,>=3.0.2 in /usr/local/lib/python3.6/dist-packages (from requests->motifscan) (3.0.4)\n",
            "Requirement already satisfied, skipping upgrade: certifi>=2017.4.17 in /usr/local/lib/python3.6/dist-packages (from requests->motifscan) (2020.12.5)\n",
            "Requirement already satisfied, skipping upgrade: urllib3!=1.25.0,!=1.25.1,<1.26,>=1.21.1 in /usr/local/lib/python3.6/dist-packages (from requests->motifscan) (1.24.3)\n",
            "Requirement already satisfied, skipping upgrade: idna<3,>=2.5 in /usr/local/lib/python3.6/dist-packages (from requests->motifscan) (2.10)\n",
            "Requirement already satisfied, skipping upgrade: cycler>=0.10 in /usr/local/lib/python3.6/dist-packages (from matplotlib>=3.0.0->motifscan) (0.10.0)\n",
            "Requirement already satisfied, skipping upgrade: pyparsing!=2.0.4,!=2.1.2,!=2.1.6,>=2.0.1 in /usr/local/lib/python3.6/dist-packages (from matplotlib>=3.0.0->motifscan) (2.4.7)\n",
            "Requirement already satisfied, skipping upgrade: python-dateutil>=2.1 in /usr/local/lib/python3.6/dist-packages (from matplotlib>=3.0.0->motifscan) (2.8.1)\n",
            "Requirement already satisfied, skipping upgrade: kiwisolver>=1.0.1 in /usr/local/lib/python3.6/dist-packages (from matplotlib>=3.0.0->motifscan) (1.3.1)\n",
            "Requirement already satisfied, skipping upgrade: six in /usr/local/lib/python3.6/dist-packages (from cycler>=0.10->matplotlib>=3.0.0->motifscan) (1.15.0)\n",
            "Building wheels for collected packages: motifscan\n",
            "  Building wheel for motifscan (setup.py) ... \u001b[?25l\u001b[?25hdone\n",
            "  Created wheel for motifscan: filename=motifscan-1.3.0-cp36-cp36m-linux_x86_64.whl size=64844 sha256=6c35928b76942094e646f8e76d7510b6f8e92f74ae08c7178c7431f06a5d0753\n",
            "  Stored in directory: /root/.cache/pip/wheels/6e/9d/33/feddd3a71c3e47d5cf96b8a1c31fc7a4509c27cccfe3d8d529\n",
            "Successfully built motifscan\n",
            "Installing collected packages: tqdm, motifscan\n",
            "  Found existing installation: tqdm 4.41.1\n",
            "    Uninstalling tqdm-4.41.1:\n",
            "      Successfully uninstalled tqdm-4.41.1\n",
            "Successfully installed motifscan-1.3.0 tqdm-4.57.0\n"
          ],
          "name": "stdout"
        }
      ]
    },
    {
      "cell_type": "code",
      "metadata": {
        "id": "OjyDszAU181O"
      },
      "source": [
        "import subprocess"
      ],
      "execution_count": null,
      "outputs": []
    },
    {
      "cell_type": "code",
      "metadata": {
        "id": "byUolR3R6F9B"
      },
      "source": [
        "a = pbt.BedTool(\"seq_inp.bed\")"
      ],
      "execution_count": null,
      "outputs": []
    },
    {
      "cell_type": "code",
      "metadata": {
        "colab": {
          "base_uri": "https://localhost:8080/"
        },
        "id": "wC2Tce_76lUh",
        "outputId": "c6d2b8d8-ba65-4ef9-ba6d-a0c89c534c3f"
      },
      "source": [
        "a.sort().saveas(\"sequ_inp.bed\")"
      ],
      "execution_count": null,
      "outputs": [
        {
          "output_type": "execute_result",
          "data": {
            "text/plain": [
              "<BedTool(sequ_inp.bed)>"
            ]
          },
          "metadata": {
            "tags": []
          },
          "execution_count": 40
        }
      ]
    },
    {
      "cell_type": "code",
      "metadata": {
        "colab": {
          "base_uri": "https://localhost:8080/"
        },
        "id": "UtXcQkms2a6m",
        "outputId": "6783c3a2-9cb0-4bbb-bc9c-5a44b113ca44"
      },
      "source": [
        "s=subprocess.check_output('motifscan genome --list-remote',shell=True).decode('utf-8')\r\n",
        "s=str(s)\r\n",
        "print(s)"
      ],
      "execution_count": null,
      "outputs": [
        {
          "output_type": "stream",
          "text": [
            "hg38        \tUCSC\tHuman Dec. 2013 (GRCh38/hg38) Genome at UCSC\n",
            "hg19        \tUCSC\tHuman Feb. 2009 (GRCh37/hg19) Genome at UCSC\n",
            "hg18        \tUCSC\tHuman Mar. 2006 (NCBI36/hg18) Genome at UCSC\n",
            "hg17        \tUCSC\tHuman May 2004 (NCBI35/hg17) Genome at UCSC\n",
            "hg16        \tUCSC\tHuman July 2003 (NCBI34/hg16) Genome at UCSC\n",
            "mm39        \tUCSC\tMouse Jun. 2020 (GRCm39/mm39) Genome at UCSC\n",
            "mm10        \tUCSC\tMouse Dec. 2011 (GRCm38/mm10) Genome at UCSC\n",
            "mm9         \tUCSC\tMouse July 2007 (NCBI37/mm9) Genome at UCSC\n",
            "mm8         \tUCSC\tMouse Feb. 2006 (NCBI36/mm8) Genome at UCSC\n",
            "mm7         \tUCSC\tMouse Aug. 2005 (NCBI35/mm7) Genome at UCSC\n",
            "anoGam3     \tUCSC\tA. gambiae Oct. 2006 (AgamP3/anoGam3) Genome at UCSC\n",
            "anoGam1     \tUCSC\tA. gambiae Feb. 2003 (IAGEC MOZ2/anoGam1) Genome at UCSC\n",
            "apiMel2     \tUCSC\tA. mellifera Jan. 2005 (Baylor 2.0/apiMel2) Genome at UCSC\n",
            "apiMel1     \tUCSC\tA. mellifera July 2004 (Baylor 1.2/apiMel1) Genome at UCSC\n",
            "xenLae2     \tUCSC\tAfrican clawed frog Aug. 2016 (Xenopus_laevis_v2/xenLae2) Genome at UCSC\n",
            "vicPac2     \tUCSC\tAlpaca Mar. 2013 (Vicugna_pacos-2.0.1/vicPac2) Genome at UCSC\n",
            "vicPac1     \tUCSC\tAlpaca Jul. 2008 (Broad/vicPac1) Genome at UCSC\n",
            "allMis1     \tUCSC\tAmerican alligator Aug. 2012 (allMis0.2/allMis1) Genome at UCSC\n",
            "dasNov3     \tUCSC\tArmadillo Dec. 2011 (Baylor/dasNov3) Genome at UCSC\n",
            "gadMor1     \tUCSC\tAtlantic cod May 2010 (Genofisk GadMor_May2010/gadMor1) Genome at UCSC\n",
            "papAnu4     \tUCSC\tBaboon Apr. 2017 (Panu_3.0/papAnu4) Genome at UCSC\n",
            "papAnu2     \tUCSC\tBaboon Mar. 2012 (Baylor Panu_2.0/papAnu2) Genome at UCSC\n",
            "papHam1     \tUCSC\tBaboon Nov. 2008 (Baylor Pham_1.0/papHam1) Genome at UCSC\n",
            "bisBis1     \tUCSC\tBison Oct. 2014 (Bison_UMD1.0/bisBis1) Genome at UCSC\n",
            "panPan3     \tUCSC\tBonobo May 2020 (Mhudiblu_PPA_v0/panPan3) Genome at UCSC\n",
            "panPan2     \tUCSC\tBonobo Aug. 2015 (MPI-EVA panpan1.1/panPan2) Genome at UCSC\n",
            "panPan1     \tUCSC\tBonobo May 2012 (Max-Planck/panPan1) Genome at UCSC\n",
            "aptMan1     \tUCSC\tBrown kiwi Jun. 2015 (MPI-EVA AptMant0/aptMan1) Genome at UCSC\n",
            "melUnd1     \tUCSC\tBudgerigar Sep. 2011 (WUSTL v6.3/melUnd1) Genome at UCSC\n",
            "otoGar3     \tUCSC\tBushbaby Mar. 2011 (Broad/otoGar3) Genome at UCSC\n",
            "caePb2      \tUCSC\tC. brenneri Feb. 2008 (WUGSC 6.0.1/caePb2) Genome at UCSC\n",
            "caePb1      \tUCSC\tC. brenneri Jan. 2007 (WUGSC 4.0/caePb1) Genome at UCSC\n",
            "cb3         \tUCSC\tC. briggsae Jan. 2007 (WUGSC 1.0/cb3) Genome at UCSC\n",
            "cb1         \tUCSC\tC. briggsae July 2002 (WormBase cb25.agp8/cb1) Genome at UCSC\n",
            "ce11        \tUCSC\tC. elegans Feb. 2013 (WBcel235/ce11) Genome at UCSC\n",
            "ce10        \tUCSC\tC. elegans Oct. 2010 (WS220/ce10) Genome at UCSC\n",
            "ce6         \tUCSC\tC. elegans May 2008 (WS190/ce6) Genome at UCSC\n",
            "ce4         \tUCSC\tC. elegans Jan. 2007 (WS170/ce4) Genome at UCSC\n",
            "ce2         \tUCSC\tC. elegans Mar. 2004 (WS120/ce2) Genome at UCSC\n",
            "ci3         \tUCSC\tC. intestinalis Apr. 2011 (Kyoto KH/ci3) Genome at UCSC\n",
            "ci2         \tUCSC\tC. intestinalis Mar. 2005 (JGI 2.1/ci2) Genome at UCSC\n",
            "ci1         \tUCSC\tC. intestinalis Dec. 2002 (JGI 1.0/ci1) Genome at UCSC\n",
            "caeJap1     \tUCSC\tC. japonica Mar. 2008 (WUGSC 3.0.2/caeJap1) Genome at UCSC\n",
            "caeRem3     \tUCSC\tC. remanei May 2007 (WUGSC 15.0.1/caeRem3) Genome at UCSC\n",
            "caeRem2     \tUCSC\tC. remanei Mar. 2006 (WUGSC 1.0/caeRem2) Genome at UCSC\n",
            "felCat9     \tUCSC\tCat Nov. 2017 (Felis_catus_9.0/felCat9) Genome at UCSC\n",
            "felCat8     \tUCSC\tCat Nov. 2014 (ICGSC Felis_catus_8.0/felCat8) Genome at UCSC\n",
            "felCat5     \tUCSC\tCat Sep. 2011 (ICGSC Felis_catus 6.2/felCat5) Genome at UCSC\n",
            "felCat4     \tUCSC\tCat Dec. 2008 (NHGRI/GTB V17e/felCat4) Genome at UCSC\n",
            "felCat3     \tUCSC\tCat Mar. 2006 (Broad/felCat3) Genome at UCSC\n",
            "galGal6     \tUCSC\tChicken Mar. 2018 (GRCg6a/galGal6) Genome at UCSC\n",
            "galGal5     \tUCSC\tChicken Dec 2015 (Gallus_gallus-5.0/galGal5) Genome at UCSC\n",
            "galGal4     \tUCSC\tChicken Nov. 2011 (ICGSC Gallus_gallus-4.0/galGal4) Genome at UCSC\n",
            "galGal3     \tUCSC\tChicken May 2006 (WUGSC 2.1/galGal3) Genome at UCSC\n",
            "galGal2     \tUCSC\tChicken Feb. 2004 (WUGSC 1.0/galGal2) Genome at UCSC\n",
            "panTro6     \tUCSC\tChimp Jan. 2018 (Clint_PTRv2/panTro6) Genome at UCSC\n",
            "panTro5     \tUCSC\tChimp May 2016 (Pan_tro 3.0/panTro5) Genome at UCSC\n",
            "panTro4     \tUCSC\tChimp Feb. 2011 (CSAC 2.1.4/panTro4) Genome at UCSC\n",
            "panTro3     \tUCSC\tChimp Oct. 2010 (CGSC 2.1.3/panTro3) Genome at UCSC\n",
            "panTro2     \tUCSC\tChimp Mar. 2006 (CGSC 2.1/panTro2) Genome at UCSC\n",
            "panTro1     \tUCSC\tChimp Nov. 2003 (CGSC 1.1/panTro1) Genome at UCSC\n",
            "criGriChoV2 \tUCSC\tChinese hamster Jun. 2017 (CHOK1S_HZDv1/criGriChoV2) Genome at UCSC\n",
            "criGriChoV1 \tUCSC\tChinese hamster Aug. 2011 (CHO K1 cell line/criGriChoV1) Genome at UCSC\n",
            "criGri1     \tUCSC\tChinese hamster Jul. 2013 (C_griseus_v1.0/criGri1) Genome at UCSC\n",
            "manPen1     \tUCSC\tChinese pangolin Aug 2014 (M_pentadactyla-1.1.1/manPen1) Genome at UCSC\n",
            "latCha1     \tUCSC\tCoelacanth Aug. 2011 (Broad/latCha1) Genome at UCSC\n",
            "bosTau9     \tUCSC\tCow Apr. 2018 (ARS-UCD1.2/bosTau9) Genome at UCSC\n",
            "bosTau8     \tUCSC\tCow Jun. 2014 (Bos_taurus_UMD_3.1.1/bosTau8) Genome at UCSC\n",
            "bosTau7     \tUCSC\tCow Oct. 2011 (Baylor Btau_4.6.1/bosTau7) Genome at UCSC\n",
            "bosTau6     \tUCSC\tCow Nov. 2009 (Bos_taurus_UMD_3.1/bosTau6) Genome at UCSC\n",
            "bosTau4     \tUCSC\tCow Oct. 2007 (Baylor 4.0/bosTau4) Genome at UCSC\n",
            "bosTau3     \tUCSC\tCow Aug. 2006 (Baylor 3.1/bosTau3) Genome at UCSC\n",
            "bosTau2     \tUCSC\tCow Mar. 2005 (Baylor 2.0/bosTau2) Genome at UCSC\n",
            "macFas5     \tUCSC\tCrab-eating macaque Jun. 2013 (Macaca_fascicularis_5.0/macFas5) Genome at UCSC\n",
            "droAna2     \tUCSC\tD. ananassae Aug. 2005 (Agencourt prelim/droAna2) Genome at UCSC\n",
            "droAna1     \tUCSC\tD. ananassae July 2004 (TIGR/droAna1) Genome at UCSC\n",
            "droEre1     \tUCSC\tD. erecta Aug. 2005 (Agencourt prelim/droEre1) Genome at UCSC\n",
            "droGri1     \tUCSC\tD. grimshawi Aug. 2005 (Agencourt prelim/droGri1) Genome at UCSC\n",
            "dm6         \tUCSC\tD. melanogaster Aug. 2014 (BDGP Release 6 + ISO1 MT/dm6) Genome at UCSC\n",
            "dm3         \tUCSC\tD. melanogaster Apr. 2006 (BDGP R5/dm3) Genome at UCSC\n",
            "dm2         \tUCSC\tD. melanogaster Apr. 2004 (BDGP R4/dm2) Genome at UCSC\n",
            "dm1         \tUCSC\tD. melanogaster Jan. 2003 (BDGP R3/dm1) Genome at UCSC\n",
            "droMoj2     \tUCSC\tD. mojavensis Aug. 2005 (Agencourt prelim/droMoj2) Genome at UCSC\n",
            "droMoj1     \tUCSC\tD. mojavensis Aug. 2004 (Agencourt prelim/droMoj1) Genome at UCSC\n",
            "droPer1     \tUCSC\tD. persimilis Oct. 2005 (Broad/droPer1) Genome at UCSC\n",
            "dp3         \tUCSC\tD. pseudoobscura Nov. 2004 (FlyBase 1.03/dp3) Genome at UCSC\n",
            "dp2         \tUCSC\tD. pseudoobscura Aug. 2003 (Baylor freeze1/dp2) Genome at UCSC\n",
            "droSec1     \tUCSC\tD. sechellia Oct. 2005 (Broad/droSec1) Genome at UCSC\n",
            "droSim1     \tUCSC\tD. simulans Apr. 2005 (WUGSC mosaic 1.0/droSim1) Genome at UCSC\n",
            "droVir2     \tUCSC\tD. virilis Aug. 2005 (Agencourt prelim/droVir2) Genome at UCSC\n",
            "droVir1     \tUCSC\tD. virilis July 2004 (Agencourt prelim/droVir1) Genome at UCSC\n",
            "droYak2     \tUCSC\tD. yakuba Nov. 2005 (WUGSC 7.1/droYak2) Genome at UCSC\n",
            "droYak1     \tUCSC\tD. yakuba Apr. 2004 (WUGSC 1.0/droYak1) Genome at UCSC\n",
            "canFam5     \tUCSC\tDog May 2019 (UMICH_Zoey_3.1/canFam5) Genome at UCSC\n",
            "canFam4     \tUCSC\tDog Mar. 2020 (UU_Cfam_GSD_1.0/canFam4) Genome at UCSC\n",
            "canFam3     \tUCSC\tDog Sep. 2011 (Broad CanFam3.1/canFam3) Genome at UCSC\n",
            "canFam2     \tUCSC\tDog May 2005 (Broad/canFam2) Genome at UCSC\n",
            "canFam1     \tUCSC\tDog July 2004 (Broad/canFam1) Genome at UCSC\n",
            "turTru2     \tUCSC\tDolphin Oct. 2011 (Baylor Ttru_1.4/turTru2) Genome at UCSC\n",
            "eboVir3     \tUCSC\tEbola virus Sierra Leone 2014 (G3683/KM034562.1/eboVir3) Genome at UCSC\n",
            "loxAfr3     \tUCSC\tElephant Jul. 2009 (Broad/loxAfr3) Genome at UCSC\n",
            "calMil1     \tUCSC\tElephant shark Dec. 2013 (Callorhinchus_milii-6.1.3/calMil1) Genome at UCSC\n",
            "musFur1     \tUCSC\tFerret  Apr. 2011 (MusPutFur1.0/musFur1) Genome at UCSC\n",
            "fr3         \tUCSC\tFugu Oct. 2011 (FUGU5/fr3) Genome at UCSC\n",
            "fr2         \tUCSC\tFugu Oct. 2004 (JGI 4.0/fr2) Genome at UCSC\n",
            "fr1         \tUCSC\tFugu Aug. 2002 (JGI 3.0/fr1) Genome at UCSC\n",
            "thaSir1     \tUCSC\tGarter snake Jun. 2015 (Thamnophis_sirtalis-6.0/thaSir1) Genome at UCSC\n",
            "nomLeu3     \tUCSC\tGibbon Oct. 2012 (GGSC Nleu3.0/nomLeu3) Genome at UCSC\n",
            "nomLeu2     \tUCSC\tGibbon Jun. 2011 (GGSC Nleu1.1/nomLeu2) Genome at UCSC\n",
            "nomLeu1     \tUCSC\tGibbon Jan. 2010 (GGSC Nleu1.0/nomLeu1) Genome at UCSC\n",
            "aquChr2     \tUCSC\tGolden eagle Oct. 2014 (aquChr-1.0.2/aquChr2) Genome at UCSC\n",
            "rhiRox1     \tUCSC\tGolden snub-nosed monkey Oct. 2014 (Rrox_v1/rhiRox1) Genome at UCSC\n",
            "gorGor6     \tUCSC\tGorilla Aug. 2019 (Kamilah_GGO_v0/gorGor6) Genome at UCSC\n",
            "gorGor5     \tUCSC\tGorilla Mar. 2016 (GSMRT3/gorGor5) Genome at UCSC\n",
            "gorGor4     \tUCSC\tGorilla Dec 2014 (gorGor4.1/gorGor4) Genome at UCSC\n",
            "gorGor3     \tUCSC\tGorilla May 2011 (gorGor3.1/gorGor3) Genome at UCSC\n",
            "chlSab2     \tUCSC\tGreen monkey Mar. 2014 (Chlorocebus_sabeus 1.1/chlSab2) Genome at UCSC\n",
            "cavPor3     \tUCSC\tGuinea pig Feb. 2008 (Broad/cavPor3) Genome at UCSC\n",
            "neoSch1     \tUCSC\tHawaiian monk seal Jun. 2017 (ASM220157v1/neoSch1) Genome at UCSC\n",
            "eriEur2     \tUCSC\tHedgehog May 2012 (EriEur2.0/eriEur2) Genome at UCSC\n",
            "eriEur1     \tUCSC\tHedgehog June 2006 (Broad/eriEur1) Genome at UCSC\n",
            "equCab3     \tUCSC\tHorse Jan. 2018 (EquCab3.0/equCab3) Genome at UCSC\n",
            "equCab2     \tUCSC\tHorse Sep. 2007 (Broad/equCab2) Genome at UCSC\n",
            "equCab1     \tUCSC\tHorse Jan. 2007 (Broad/equCab1) Genome at UCSC\n",
            "dipOrd1     \tUCSC\tKangaroo rat Jul. 2008 (Broad/dipOrd1) Genome at UCSC\n",
            "petMar3     \tUCSC\tLamprey Dec. 2017 (Pmar_germline 1.0/petMar3) Genome at UCSC\n",
            "petMar2     \tUCSC\tLamprey Sep. 2010 (WUGSC 7.0/petMar2) Genome at UCSC\n",
            "petMar1     \tUCSC\tLamprey Mar. 2007 (WUGSC 3.0/petMar1) Genome at UCSC\n",
            "braFlo1     \tUCSC\tLancelet Mar. 2006 (JGI 1.0/braFlo1) Genome at UCSC\n",
            "anoCar2     \tUCSC\tLizard May 2010 (Broad AnoCar2.0/anoCar2) Genome at UCSC\n",
            "anoCar1     \tUCSC\tLizard Feb. 2007 (Broad/anoCar1) Genome at UCSC\n",
            "galVar1     \tUCSC\tMalayan flying lemur Jun. 2014 (G_variegatus-3.0.2/galVar1) Genome at UCSC\n",
            "triMan1     \tUCSC\tManatee Oct. 2011 (Broad v1.0/triMan1) Genome at UCSC\n",
            "calJac4     \tUCSC\tMarmoset May 2020 (Callithrix_jacchus_cj1700_1.1/calJac4) Genome at UCSC\n",
            "calJac3     \tUCSC\tMarmoset March 2009 (WUGSC 3.2/calJac3) Genome at UCSC\n",
            "calJac1     \tUCSC\tMarmoset June 2007 (WUGSC 2.0.2/calJac1) Genome at UCSC\n",
            "oryLat2     \tUCSC\tMedaka Oct. 2005 (NIG/UT MEDAKA1/oryLat2) Genome at UCSC\n",
            "geoFor1     \tUCSC\tMedium ground finch Apr. 2012 (GeoFor_1.0/geoFor1) Genome at UCSC\n",
            "pteVam1     \tUCSC\tMegabat Jul. 2008 (Broad/pteVam1) Genome at UCSC\n",
            "myoLuc2     \tUCSC\tMicrobat Jul. 2010 (Broad Institute Myoluc2.0/myoLuc2) Genome at UCSC\n",
            "balAcu1     \tUCSC\tMinke whale Oct. 2013 (BalAcu1.0/balAcu1) Genome at UCSC\n",
            "micMur2     \tUCSC\tMouse lemur May 2015 (Mouse lemur/micMur2) Genome at UCSC\n",
            "micMur1     \tUCSC\tMouse lemur Jul. 2007 (Broad/micMur1) Genome at UCSC\n",
            "hetGla2     \tUCSC\tNaked mole-rat Jan. 2012 (Broad HetGla_female_1.0/hetGla2) Genome at UCSC\n",
            "hetGla1     \tUCSC\tNaked mole-rat Jul. 2011 (BGI HetGla_1.0/hetGla1) Genome at UCSC\n",
            "oreNil2     \tUCSC\tNile tilapia Jan. 2011 (Broad oreNil1.1/oreNil2) Genome at UCSC\n",
            "monDom5     \tUCSC\tOpossum Oct. 2006 (Broad/monDom5) Genome at UCSC\n",
            "monDom4     \tUCSC\tOpossum Jan. 2006 (Broad/monDom4) Genome at UCSC\n",
            "monDom1     \tUCSC\tOpossum Oct. 2004 (Broad prelim/monDom1) Genome at UCSC\n",
            "ponAbe3     \tUCSC\tOrangutan Jan. 2018 (Susie_PABv2/ponAbe3) Genome at UCSC\n",
            "ponAbe2     \tUCSC\tOrangutan July 2007 (WUGSC 2.0.2/ponAbe2) Genome at UCSC\n",
            "priPac1     \tUCSC\tP. pacificus Feb. 2007 (WUGSC 5.0/priPac1) Genome at UCSC\n",
            "chrPic1     \tUCSC\tPainted turtle Dec. 2011 (v3.0.1/chrPic1) Genome at UCSC\n",
            "ailMel1     \tUCSC\tPanda Dec. 2009 (BGI-Shenzhen 1.0/ailMel1) Genome at UCSC\n",
            "susScr11    \tUCSC\tPig Feb. 2017 (Sscrofa11.1/susScr11) Genome at UCSC\n",
            "susScr3     \tUCSC\tPig Aug. 2011 (SGSC Sscrofa10.2/susScr3) Genome at UCSC\n",
            "susScr2     \tUCSC\tPig Nov. 2009 (SGSC Sscrofa9.2/susScr2) Genome at UCSC\n",
            "ochPri3     \tUCSC\tPika May 2012 (OchPri3.0/ochPri3) Genome at UCSC\n",
            "ochPri2     \tUCSC\tPika Jul. 2008 (Broad/ochPri2) Genome at UCSC\n",
            "ornAna2     \tUCSC\tPlatypus Feb. 2007 (ASM227v2/ornAna2) Genome at UCSC\n",
            "ornAna1     \tUCSC\tPlatypus Mar. 2007 (WUGSC 5.0.1/ornAna1) Genome at UCSC\n",
            "nasLar1     \tUCSC\tProboscis monkey Nov. 2014 (Charlie1.0/nasLar1) Genome at UCSC\n",
            "oryCun2     \tUCSC\tRabbit Apr. 2009 (Broad/oryCun2) Genome at UCSC\n",
            "rn6         \tUCSC\tRat Jul. 2014 (RGSC 6.0/rn6) Genome at UCSC\n",
            "rn5         \tUCSC\tRat Mar. 2012 (RGSC 5.0/rn5) Genome at UCSC\n",
            "rn4         \tUCSC\tRat Nov. 2004 (Baylor 3.4/rn4) Genome at UCSC\n",
            "rn3         \tUCSC\tRat June 2003 (Baylor 3.1/rn3) Genome at UCSC\n",
            "rheMac10    \tUCSC\tRhesus Feb. 2019 (Mmul_10/rheMac10) Genome at UCSC\n",
            "rheMac8     \tUCSC\tRhesus Nov. 2015 (BCM Mmul_8.0.1/rheMac8) Genome at UCSC\n",
            "rheMac3     \tUCSC\tRhesus Oct. 2010 (BGI CR_1.0/rheMac3) Genome at UCSC\n",
            "rheMac2     \tUCSC\tRhesus Jan. 2006 (MGSC Merged 1.0/rheMac2) Genome at UCSC\n",
            "proCap1     \tUCSC\tRock hyrax Jul. 2008 (Broad/proCap1) Genome at UCSC\n",
            "sacCer3     \tUCSC\tS. cerevisiae Apr. 2011 (SacCer_Apr2011/sacCer3) Genome at UCSC\n",
            "sacCer2     \tUCSC\tS. cerevisiae June 2008 (SGD/sacCer2) Genome at UCSC\n",
            "sacCer1     \tUCSC\tS. cerevisiae Oct. 2003 (SGD/sacCer1) Genome at UCSC\n",
            "strPur2     \tUCSC\tS. purpuratus Sep. 2006 (Baylor 2.1/strPur2) Genome at UCSC\n",
            "strPur1     \tUCSC\tS. purpuratus Apr. 2005 (Baylor 1.1/strPur1) Genome at UCSC\n",
            "aplCal1     \tUCSC\tSea hare Sept. 2008 (Broad 2.0/aplCal1) Genome at UCSC\n",
            "enhLutNer1  \tUCSC\tSouthern sea otter Jun. 2019 (ASM641071v1/enhLutNer1) Genome at UCSC\n",
            "oviAri4     \tUCSC\tSheep Nov. 2015 (Oar_v4.0/oviAri4) Genome at UCSC\n",
            "oviAri3     \tUCSC\tSheep Aug. 2012 (ISGC Oar_v3.1/oviAri3) Genome at UCSC\n",
            "oviAri1     \tUCSC\tSheep Feb. 2010 (ISGC Ovis_aries_1.0/oviAri1) Genome at UCSC\n",
            "sorAra2     \tUCSC\tShrew Aug. 2008 (Broad/sorAra2) Genome at UCSC\n",
            "sorAra1     \tUCSC\tShrew June 2006 (Broad/sorAra1) Genome at UCSC\n",
            "choHof1     \tUCSC\tSloth Jul. 2008 (Broad/choHof1) Genome at UCSC\n",
            "speTri2     \tUCSC\tSquirrel Nov. 2011 (Broad/speTri2) Genome at UCSC\n",
            "saiBol1     \tUCSC\tSquirrel monkey Oct. 2011 (Broad/saiBol1) Genome at UCSC\n",
            "gasAcu1     \tUCSC\tStickleback Feb. 2006 (Broad/gasAcu1) Genome at UCSC\n",
            "tarSyr2     \tUCSC\tTarsier Sep. 2013 (Tarsius_syrichta-2.0.1/tarSyr2) Genome at UCSC\n",
            "tarSyr1     \tUCSC\tTarsier Aug. 2008 (Broad/tarSyr1) Genome at UCSC\n",
            "sarHar1     \tUCSC\tTasmanian devil Feb. 2011 (WTSI Devil_ref v7.0/sarHar1) Genome at UCSC\n",
            "echTel2     \tUCSC\tTenrec Nov. 2012 (Broad/echTel2) Genome at UCSC\n",
            "echTel1     \tUCSC\tTenrec July 2005 (Broad/echTel1) Genome at UCSC\n",
            "tetNig2     \tUCSC\tTetraodon Mar. 2007 (Genoscope 8.0/tetNig2) Genome at UCSC\n",
            "tetNig1     \tUCSC\tTetraodon Feb. 2004 (Genoscope 7/tetNig1) Genome at UCSC\n",
            "nanPar1     \tUCSC\tTibetan frog Mar. 2015 (BGI_ZX_2015/nanPar1) Genome at UCSC\n",
            "tupBel1     \tUCSC\tTree shrew Dec. 2006 (Broad/tupBel1) Genome at UCSC\n",
            "melGal5     \tUCSC\tTurkey Nov. 2014 (Turkey_5.0/melGal5) Genome at UCSC\n",
            "melGal1     \tUCSC\tTurkey Dec. 2009 (TGC Turkey_2.01/melGal1) Genome at UCSC\n",
            "wuhCor1     \tUCSC\tSARS-CoV-2 Jan. 2020/NC_045512.2 Genome at UCSC\n",
            "macEug2     \tUCSC\tWallaby Sep. 2009 (TWGS Meug_1.1/macEug2) Genome at UCSC\n",
            "cerSim1     \tUCSC\tWhite rhinoceros May 2012 (CerSimSim1.0/cerSim1) Genome at UCSC\n",
            "xenTro9     \tUCSC\tX. tropicalis Jul. 2016 (Xenopus_tropicalis_v9.1/xenTro9) Genome at UCSC\n",
            "xenTro7     \tUCSC\tX. tropicalis Sep. 2012 (JGI 7.0/xenTro7) Genome at UCSC\n",
            "xenTro3     \tUCSC\tX. tropicalis Nov. 2009 (JGI 4.2/xenTro3) Genome at UCSC\n",
            "xenTro2     \tUCSC\tX. tropicalis Aug. 2005 (JGI 4.1/xenTro2) Genome at UCSC\n",
            "xenTro1     \tUCSC\tX. tropicalis Oct. 2004 (JGI 3.0/xenTro1) Genome at UCSC\n",
            "taeGut2     \tUCSC\tZebra finch Feb. 2013 (WashU taeGut324/taeGut2) Genome at UCSC\n",
            "taeGut1     \tUCSC\tZebra finch Jul. 2008 (WUGSC 3.2.4/taeGut1) Genome at UCSC\n",
            "danRer11    \tUCSC\tZebrafish May 2017 (GRCz11/danRer11) Genome at UCSC\n",
            "danRer10    \tUCSC\tZebrafish Sep. 2014 (GRCz10/danRer10) Genome at UCSC\n",
            "danRer7     \tUCSC\tZebrafish Jul. 2010 (Zv9/danRer7) Genome at UCSC\n",
            "danRer6     \tUCSC\tZebrafish Dec. 2008 (Zv8/danRer6) Genome at UCSC\n",
            "danRer5     \tUCSC\tZebrafish July 2007 (Zv7/danRer5) Genome at UCSC\n",
            "danRer4     \tUCSC\tZebrafish Mar. 2006 (Zv6/danRer4) Genome at UCSC\n",
            "danRer3     \tUCSC\tZebrafish May 2005 (Zv5/danRer3) Genome at UCSC\n",
            "\n"
          ],
          "name": "stdout"
        }
      ]
    },
    {
      "cell_type": "code",
      "metadata": {
        "colab": {
          "base_uri": "https://localhost:8080/"
        },
        "id": "daLpoX2P4Il7",
        "outputId": "53cb9b67-a324-41ad-9c93-b6a480633c1e"
      },
      "source": [
        "m=subprocess.check_output('motifscan motif --list-remote',shell=True).decode('utf-8')\r\n",
        "m=str(m)\r\n",
        "print(m)"
      ],
      "execution_count": null,
      "outputs": [
        {
          "output_type": "stream",
          "text": [
            "vertebrates_non-redundant\tJASPAR2020_CORE\n",
            "vertebrates_redundant    \tJASPAR2020_CORE\n",
            "plants_non-redundant     \tJASPAR2020_CORE\n",
            "plants_redundant         \tJASPAR2020_CORE\n",
            "insects_non-redundant    \tJASPAR2020_CORE\n",
            "insects_redundant        \tJASPAR2020_CORE\n",
            "nematodes_non-redundant  \tJASPAR2020_CORE\n",
            "nematodes_redundant      \tJASPAR2020_CORE\n",
            "fungi_non-redundant      \tJASPAR2020_CORE\n",
            "fungi_redundant          \tJASPAR2020_CORE\n",
            "urochordates_non-redundant\tJASPAR2020_CORE\n",
            "urochordates_redundant   \tJASPAR2020_CORE\n",
            "\n"
          ],
          "name": "stdout"
        }
      ]
    },
    {
      "cell_type": "code",
      "metadata": {
        "id": "eMgJN6IwN_iy",
        "cellView": "form"
      },
      "source": [
        "#@title Choose genome and motif set\r\n",
        "genome = 'hg38' #@param {type:\"string\"}\r\n",
        "motif_set = 'vertebrates_non-redundant' #@param {type:\"string\"}\r\n",
        "input_file = 'inpu_seq.bed' #@param {type:\"string\"}\r\n",
        "output_dir = 'inpu_seq.bed' #@param {type:\"string\"}\r\n",
        "print(genome,'\\n',motif_set,'\\n',input_file,'\\n',output_dir)"
      ],
      "execution_count": null,
      "outputs": []
    },
    {
      "cell_type": "code",
      "metadata": {
        "id": "ukY7wPh6Dwpa"
      },
      "source": [
        "def motif_search(genome,motif_set,file,out_dir):\r\n",
        "  flag = []\r\n",
        "  ins_genome ='motifscan genome --install -n geno -r '+ str(genome)\r\n",
        "  flag.append(subprocess.call(ss,shell=True))\r\n",
        "  ins_motifset = 'motifscan motif --install -n moti -r '+str(motif_set)\r\n",
        "  flag.append(subprocess.call(ss,shell=True))\r\n",
        "  build_pwm ='motifscan motif --build vert -g geno'\r\n",
        "  flag.append(subprocess.call(ss,shell=True))\r\n",
        "  scan ='motifscan scan -i '+str(file)+' -g geno -m vert -o '+str(out_dir)\r\n",
        "  flag.append(subprocess.call(ss,shell=True))\r\n",
        "  return flag"
      ],
      "execution_count": null,
      "outputs": []
    },
    {
      "cell_type": "code",
      "metadata": {
        "id": "k_E3xfGHQD3P"
      },
      "source": [
        "flag = motif_search(genome,motif_set,input_file,output_dir)"
      ],
      "execution_count": null,
      "outputs": []
    },
    {
      "cell_type": "code",
      "metadata": {
        "colab": {
          "base_uri": "https://localhost:8080/"
        },
        "id": "ZiDuAaLEN8fp",
        "outputId": "2fbf7a59-a34d-4ff6-c6b3-e6de6f897b8a"
      },
      "source": [
        "!motifscan genome --install -n geno -r hg19"
      ],
      "execution_count": null,
      "outputs": [
        {
          "output_type": "stream",
          "text": [
            "Installing genome assembly 'geno' into /root/.motifscan/genomes/geno\n",
            "Downloading the sequence file\n",
            "hg19.fa.gz: 100% 949M/949M [00:22<00:00, 42.4MB/s]\n",
            "Downloading the gene annotation file\n",
            "refGene.txt.gz: 100% 8.04M/8.04M [00:00<00:00, 14.0MB/s]\n",
            "Calculating nucleotide frequencies of the genome background\n",
            "Writing nucleotide frequencies\n",
            "Updating the config file\n",
            "Successfully installed!\n"
          ],
          "name": "stdout"
        }
      ]
    },
    {
      "cell_type": "code",
      "metadata": {
        "colab": {
          "base_uri": "https://localhost:8080/"
        },
        "id": "kmbVjrwEONHp",
        "outputId": "b2f01549-6227-422b-b0c4-6bc447516c52"
      },
      "source": [
        "!motifscan motif --install -n moti -r vertebrates_non-redundant"
      ],
      "execution_count": null,
      "outputs": [
        {
          "output_type": "stream",
          "text": [
            "Installing motif set 'moti' into /root/.motifscan/motifs/moti\n",
            "Downloading motif PFMs set 'vertebrates_non-redundant' from JASPAR CORE\n",
            "Updating the config file\n",
            "Successfully installed!\n"
          ],
          "name": "stdout"
        }
      ]
    },
    {
      "cell_type": "code",
      "metadata": {
        "colab": {
          "base_uri": "https://localhost:8080/"
        },
        "id": "hwvvUgcIOf-n",
        "outputId": "3bb34bed-2864-496e-8b39-5ca517206dd2"
      },
      "source": [
        "!motifscan motif --build moti -g geno"
      ],
      "execution_count": null,
      "outputs": [
        {
          "output_type": "stream",
          "text": [
            "Building motif set 'moti' for genome assembly 'geno'\n",
            "Loading genome 'geno'\n",
            "Loading motif PFMs set 'moti'\n",
            "Converting motif PFMs to PWMs\n",
            "Random sampling background sequences\n",
            "Calculating background motif scores\n",
            "^C\n"
          ],
          "name": "stdout"
        }
      ]
    },
    {
      "cell_type": "code",
      "metadata": {
        "colab": {
          "base_uri": "https://localhost:8080/"
        },
        "id": "3PJugyt2PFLr",
        "outputId": "45ac76fa-7fe5-4cd5-b167-41adfce0968b"
      },
      "source": [
        "!motifscan scan -i inpu_seq.bed -g geno -m moti -o outd"
      ],
      "execution_count": null,
      "outputs": [
        {
          "output_type": "stream",
          "text": [
            "Running MotifScan 1.3.0\n",
            "===== Loading data =====\n",
            "Loading genome 'geno'\n",
            "Loading motif PWMs set 'moti' under genome 'geno'\n",
            "Traceback (most recent call last):\n",
            "  File \"/usr/local/bin/motifscan\", line 8, in <module>\n",
            "    sys.exit(main())\n",
            "  File \"/usr/local/lib/python3.6/dist-packages/motifscan/cli/main.py\", line 593, in main\n",
            "    args.func(args)\n",
            "  File \"/usr/local/lib/python3.6/dist-packages/motifscan/cli/scan.py\", line 28, in run\n",
            "    pwms = load_built_pwms(name=args.motif, genome=args.genome)\n",
            "  File \"/usr/local/lib/python3.6/dist-packages/motifscan/motif/__init__.py\", line 374, in load_built_pwms\n",
            "    raise PwmsFileNotFoundError(name, genome)\n",
            "motifscan.exceptions.PwmsFileNotFoundError: No PWMs file for motif set 'moti' under genome geno\n"
          ],
          "name": "stdout"
        }
      ]
    }
  ]
}